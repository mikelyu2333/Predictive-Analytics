{
 "cells": [
  {
   "cell_type": "markdown",
   "metadata": {},
   "source": [
    "# Assignment-4"
   ]
  },
  {
   "cell_type": "markdown",
   "metadata": {},
   "source": [
    "`assignment4.csv`  is the data for you to do analysis on.  It is the data to predict cars' prices."
   ]
  },
  {
   "cell_type": "markdown",
   "metadata": {},
   "source": [
    "1. This data set is the same as Assignment 3\n",
    " - The complete documentation on the dataset can be found here for your reference: https://archive.ics.uci.edu/ml/datasets/Automobile\n",
    "2. Before doing prediction, you will need to preprocess the data as what you did in Assignment 3\n",
    " - Delete rows with missing data points (denoted with \"?\")\n",
    " - You should convert the data types of some features to the appropriate data types (i.e. float, integer, etc). Refer to the documentation\n",
    " - You should be able to distinguish numerical from categorical features. Refer to documentation\n",
    " - target = \\['price'\\]\n",
    " - When doing \"train_test_split\", use random_state = 20190306\n",
    "3. The task is to use LASSO regression combined with $k$-fold to find a best feature subset which gives us the smallest square root of mean square error corresponding validation set. Use k = 10. Then compute the  square root of mean square error of test set.\n",
    "4. lambda_list = np.array(\\[0.001,0.01,0.1,1,10,100,1000,10000\\])\n",
    "5. Finally, use Elastic Net with $k$-fold to find the best feature subset and calculate the RMSE. Use k = 10, l1_ratio = 1/3 and the lambda_list defined in 4. "
   ]
  },
  {
   "cell_type": "markdown",
   "metadata": {},
   "source": [
    "Note: Do not shut down the kernel when you run the codes.\n",
    "\n",
    "Hint: Try to think about the difference between Ridge and LASSO (google sklearn LASSO and sklearn Ridge) <br>\n",
    "Hint 2: sklearn has a package for Elastic Net. The usage is straightforward if you understand how Elastic Net works."
   ]
  },
  {
   "cell_type": "code",
   "execution_count": 1,
   "metadata": {},
   "outputs": [],
   "source": [
    "import pandas as pd\n",
    "import numpy as np\n",
    "from sklearn import linear_model\n",
    "from sklearn.model_selection import train_test_split, KFold\n",
    "from sklearn.feature_selection import SelectFromModel\n",
    "from sklearn.metrics import mean_squared_error\n"
   ]
  },
  {
   "cell_type": "code",
   "execution_count": 2,
   "metadata": {},
   "outputs": [],
   "source": [
    "pd.read_csv('assignment4.csv', index_col = 0)\n",
    "data = pd.read_csv('assignment4.csv').drop(['Unnamed: 0'], axis = 1)\n",
    "data = data[~(data == '?').any(axis=1)]"
   ]
  },
  {
   "cell_type": "code",
   "execution_count": 3,
   "metadata": {},
   "outputs": [],
   "source": [
    "data[['normalized-losses','bore','stroke','horsepower','peak-rpm','price']].astype('float')\n",
    "features_numerical = ['normalized-losses','wheel-base','length','width','height','curb-weight','engine-size','bore','stroke','compression-ratio','horsepower','peak-rpm','city-mpg','highway-mpg']\n",
    "target = ['price']\n",
    "features_categorical = list(set(data.columns) - set(features_numerical) - set(target))\n",
    "features = features_categorical + features_numerical\n",
    "sales = data[features_numerical + features_categorical + target]"
   ]
  },
  {
   "cell_type": "code",
   "execution_count": 4,
   "metadata": {},
   "outputs": [],
   "source": [
    "def onehot_encoder(df, feature):\n",
    "    result = pd.DataFrame()\n",
    "    if feature in df.columns:\n",
    "        # The following line is important, refer to Assignment 2\n",
    "        result = pd.get_dummies(df, columns=[feature])\n",
    "        return result\n",
    "    else:\n",
    "        return print(\"Please select a feature in this df!\")"
   ]
  },
  {
   "cell_type": "code",
   "execution_count": 5,
   "metadata": {},
   "outputs": [],
   "source": [
    "def kfold_Lasso(data, target, n, lamb):\n",
    "    # We need a vector to record mse from k-fold\n",
    "    MSE = np.array([]) \n",
    "    \n",
    "    # KFold is a build-in function in Scikit-learn\n",
    "    #    it can help us cut data into n pieces \n",
    "    #    (compare with simple cross validation)\n",
    "    kf = KFold(n_splits = n, random_state = 20190306, shuffle=True)\n",
    "    \n",
    "    for train_index, validation_index in kf.split(data):\n",
    "\n",
    "        # obtain the train and validation part\n",
    "        train, valid = data.loc[train_index,:], data.loc[validation_index,:]\n",
    "        \n",
    "        # extract X and Y to be fit in a Ridge regression model\n",
    "        X_train = train.drop(target, axis = 1)\n",
    "        Y_train = train[target]        \n",
    "        X_valid = valid.drop(target, axis = 1)\n",
    "        Y_valid = valid[target]\n",
    "\n",
    "        # build Ridge regression model\n",
    "        model = linear_model.Lasso(alpha = lamb)\n",
    "        \n",
    "        # fit model using training data\n",
    "        model.fit(X_train,Y_train)\n",
    "        \n",
    "        # predict using validation data\n",
    "        Y_valid_fit = model.predict(X_valid)\n",
    "        \n",
    "        # Calculate MSE\n",
    "        MSE_temp = mean_squared_error(Y_valid_fit, Y_valid)\n",
    "        \n",
    "        # Add MSE to the list\n",
    "        MSE = np.append(MSE, MSE_temp)\n",
    "        \n",
    "    return MSE.mean()"
   ]
  },
  {
   "cell_type": "code",
   "execution_count": 6,
   "metadata": {},
   "outputs": [],
   "source": [
    "lambda_list = np.array([0.001,0.01,0.1,1,10,100,1000,10000])\n",
    "MSE_Lasso = np.array([])"
   ]
  },
  {
   "cell_type": "code",
   "execution_count": 7,
   "metadata": {},
   "outputs": [
    {
     "name": "stderr",
     "output_type": "stream",
     "text": [
      "D:\\ProgramData\\Anaconda3\\lib\\site-packages\\sklearn\\linear_model\\_coordinate_descent.py:647: ConvergenceWarning: Objective did not converge. You might want to increase the number of iterations, check the scale of the features or consider increasing regularisation. Duality gap: 4.433e+07, tolerance: 3.449e+05\n",
      "  model = cd_fast.enet_coordinate_descent(\n",
      "D:\\ProgramData\\Anaconda3\\lib\\site-packages\\sklearn\\linear_model\\_coordinate_descent.py:647: ConvergenceWarning: Objective did not converge. You might want to increase the number of iterations, check the scale of the features or consider increasing regularisation. Duality gap: 4.764e+07, tolerance: 4.348e+05\n",
      "  model = cd_fast.enet_coordinate_descent(\n",
      "D:\\ProgramData\\Anaconda3\\lib\\site-packages\\sklearn\\linear_model\\_coordinate_descent.py:647: ConvergenceWarning: Objective did not converge. You might want to increase the number of iterations, check the scale of the features or consider increasing regularisation. Duality gap: 3.566e+07, tolerance: 3.930e+05\n",
      "  model = cd_fast.enet_coordinate_descent(\n",
      "D:\\ProgramData\\Anaconda3\\lib\\site-packages\\sklearn\\linear_model\\_coordinate_descent.py:647: ConvergenceWarning: Objective did not converge. You might want to increase the number of iterations, check the scale of the features or consider increasing regularisation. Duality gap: 4.517e+07, tolerance: 4.241e+05\n",
      "  model = cd_fast.enet_coordinate_descent(\n",
      "D:\\ProgramData\\Anaconda3\\lib\\site-packages\\sklearn\\linear_model\\_coordinate_descent.py:647: ConvergenceWarning: Objective did not converge. You might want to increase the number of iterations, check the scale of the features or consider increasing regularisation. Duality gap: 3.864e+07, tolerance: 3.950e+05\n",
      "  model = cd_fast.enet_coordinate_descent(\n",
      "D:\\ProgramData\\Anaconda3\\lib\\site-packages\\sklearn\\linear_model\\_coordinate_descent.py:647: ConvergenceWarning: Objective did not converge. You might want to increase the number of iterations, check the scale of the features or consider increasing regularisation. Duality gap: 4.338e+07, tolerance: 4.397e+05\n",
      "  model = cd_fast.enet_coordinate_descent(\n",
      "D:\\ProgramData\\Anaconda3\\lib\\site-packages\\sklearn\\linear_model\\_coordinate_descent.py:647: ConvergenceWarning: Objective did not converge. You might want to increase the number of iterations, check the scale of the features or consider increasing regularisation. Duality gap: 4.368e+07, tolerance: 4.416e+05\n",
      "  model = cd_fast.enet_coordinate_descent(\n",
      "D:\\ProgramData\\Anaconda3\\lib\\site-packages\\sklearn\\linear_model\\_coordinate_descent.py:647: ConvergenceWarning: Objective did not converge. You might want to increase the number of iterations, check the scale of the features or consider increasing regularisation. Duality gap: 4.596e+07, tolerance: 4.083e+05\n",
      "  model = cd_fast.enet_coordinate_descent(\n",
      "D:\\ProgramData\\Anaconda3\\lib\\site-packages\\sklearn\\linear_model\\_coordinate_descent.py:647: ConvergenceWarning: Objective did not converge. You might want to increase the number of iterations, check the scale of the features or consider increasing regularisation. Duality gap: 4.251e+07, tolerance: 3.884e+05\n",
      "  model = cd_fast.enet_coordinate_descent(\n",
      "D:\\ProgramData\\Anaconda3\\lib\\site-packages\\sklearn\\linear_model\\_coordinate_descent.py:647: ConvergenceWarning: Objective did not converge. You might want to increase the number of iterations, check the scale of the features or consider increasing regularisation. Duality gap: 4.658e+07, tolerance: 4.355e+05\n",
      "  model = cd_fast.enet_coordinate_descent(\n",
      "D:\\ProgramData\\Anaconda3\\lib\\site-packages\\sklearn\\linear_model\\_coordinate_descent.py:647: ConvergenceWarning: Objective did not converge. You might want to increase the number of iterations, check the scale of the features or consider increasing regularisation. Duality gap: 4.428e+07, tolerance: 3.449e+05\n",
      "  model = cd_fast.enet_coordinate_descent(\n",
      "D:\\ProgramData\\Anaconda3\\lib\\site-packages\\sklearn\\linear_model\\_coordinate_descent.py:647: ConvergenceWarning: Objective did not converge. You might want to increase the number of iterations, check the scale of the features or consider increasing regularisation. Duality gap: 4.765e+07, tolerance: 4.348e+05\n",
      "  model = cd_fast.enet_coordinate_descent(\n",
      "D:\\ProgramData\\Anaconda3\\lib\\site-packages\\sklearn\\linear_model\\_coordinate_descent.py:647: ConvergenceWarning: Objective did not converge. You might want to increase the number of iterations, check the scale of the features or consider increasing regularisation. Duality gap: 3.576e+07, tolerance: 3.930e+05\n",
      "  model = cd_fast.enet_coordinate_descent(\n",
      "D:\\ProgramData\\Anaconda3\\lib\\site-packages\\sklearn\\linear_model\\_coordinate_descent.py:647: ConvergenceWarning: Objective did not converge. You might want to increase the number of iterations, check the scale of the features or consider increasing regularisation. Duality gap: 4.527e+07, tolerance: 4.241e+05\n",
      "  model = cd_fast.enet_coordinate_descent(\n",
      "D:\\ProgramData\\Anaconda3\\lib\\site-packages\\sklearn\\linear_model\\_coordinate_descent.py:647: ConvergenceWarning: Objective did not converge. You might want to increase the number of iterations, check the scale of the features or consider increasing regularisation. Duality gap: 3.873e+07, tolerance: 3.950e+05\n",
      "  model = cd_fast.enet_coordinate_descent(\n",
      "D:\\ProgramData\\Anaconda3\\lib\\site-packages\\sklearn\\linear_model\\_coordinate_descent.py:647: ConvergenceWarning: Objective did not converge. You might want to increase the number of iterations, check the scale of the features or consider increasing regularisation. Duality gap: 4.347e+07, tolerance: 4.397e+05\n",
      "  model = cd_fast.enet_coordinate_descent(\n",
      "D:\\ProgramData\\Anaconda3\\lib\\site-packages\\sklearn\\linear_model\\_coordinate_descent.py:647: ConvergenceWarning: Objective did not converge. You might want to increase the number of iterations, check the scale of the features or consider increasing regularisation. Duality gap: 4.355e+07, tolerance: 4.416e+05\n",
      "  model = cd_fast.enet_coordinate_descent(\n",
      "D:\\ProgramData\\Anaconda3\\lib\\site-packages\\sklearn\\linear_model\\_coordinate_descent.py:647: ConvergenceWarning: Objective did not converge. You might want to increase the number of iterations, check the scale of the features or consider increasing regularisation. Duality gap: 4.605e+07, tolerance: 4.083e+05\n",
      "  model = cd_fast.enet_coordinate_descent(\n",
      "D:\\ProgramData\\Anaconda3\\lib\\site-packages\\sklearn\\linear_model\\_coordinate_descent.py:647: ConvergenceWarning: Objective did not converge. You might want to increase the number of iterations, check the scale of the features or consider increasing regularisation. Duality gap: 4.261e+07, tolerance: 3.884e+05\n",
      "  model = cd_fast.enet_coordinate_descent(\n",
      "D:\\ProgramData\\Anaconda3\\lib\\site-packages\\sklearn\\linear_model\\_coordinate_descent.py:647: ConvergenceWarning: Objective did not converge. You might want to increase the number of iterations, check the scale of the features or consider increasing regularisation. Duality gap: 4.666e+07, tolerance: 4.355e+05\n",
      "  model = cd_fast.enet_coordinate_descent(\n",
      "D:\\ProgramData\\Anaconda3\\lib\\site-packages\\sklearn\\linear_model\\_coordinate_descent.py:647: ConvergenceWarning: Objective did not converge. You might want to increase the number of iterations, check the scale of the features or consider increasing regularisation. Duality gap: 3.782e+07, tolerance: 3.449e+05\n",
      "  model = cd_fast.enet_coordinate_descent(\n",
      "D:\\ProgramData\\Anaconda3\\lib\\site-packages\\sklearn\\linear_model\\_coordinate_descent.py:647: ConvergenceWarning: Objective did not converge. You might want to increase the number of iterations, check the scale of the features or consider increasing regularisation. Duality gap: 4.831e+07, tolerance: 4.348e+05\n",
      "  model = cd_fast.enet_coordinate_descent(\n",
      "D:\\ProgramData\\Anaconda3\\lib\\site-packages\\sklearn\\linear_model\\_coordinate_descent.py:647: ConvergenceWarning: Objective did not converge. You might want to increase the number of iterations, check the scale of the features or consider increasing regularisation. Duality gap: 3.658e+07, tolerance: 3.930e+05\n",
      "  model = cd_fast.enet_coordinate_descent(\n",
      "D:\\ProgramData\\Anaconda3\\lib\\site-packages\\sklearn\\linear_model\\_coordinate_descent.py:647: ConvergenceWarning: Objective did not converge. You might want to increase the number of iterations, check the scale of the features or consider increasing regularisation. Duality gap: 4.611e+07, tolerance: 4.241e+05\n",
      "  model = cd_fast.enet_coordinate_descent(\n",
      "D:\\ProgramData\\Anaconda3\\lib\\site-packages\\sklearn\\linear_model\\_coordinate_descent.py:647: ConvergenceWarning: Objective did not converge. You might want to increase the number of iterations, check the scale of the features or consider increasing regularisation. Duality gap: 3.926e+07, tolerance: 3.950e+05\n",
      "  model = cd_fast.enet_coordinate_descent(\n",
      "D:\\ProgramData\\Anaconda3\\lib\\site-packages\\sklearn\\linear_model\\_coordinate_descent.py:647: ConvergenceWarning: Objective did not converge. You might want to increase the number of iterations, check the scale of the features or consider increasing regularisation. Duality gap: 4.429e+07, tolerance: 4.397e+05\n",
      "  model = cd_fast.enet_coordinate_descent(\n",
      "D:\\ProgramData\\Anaconda3\\lib\\site-packages\\sklearn\\linear_model\\_coordinate_descent.py:647: ConvergenceWarning: Objective did not converge. You might want to increase the number of iterations, check the scale of the features or consider increasing regularisation. Duality gap: 4.442e+07, tolerance: 4.416e+05\n",
      "  model = cd_fast.enet_coordinate_descent(\n",
      "D:\\ProgramData\\Anaconda3\\lib\\site-packages\\sklearn\\linear_model\\_coordinate_descent.py:647: ConvergenceWarning: Objective did not converge. You might want to increase the number of iterations, check the scale of the features or consider increasing regularisation. Duality gap: 4.688e+07, tolerance: 4.083e+05\n",
      "  model = cd_fast.enet_coordinate_descent(\n",
      "D:\\ProgramData\\Anaconda3\\lib\\site-packages\\sklearn\\linear_model\\_coordinate_descent.py:647: ConvergenceWarning: Objective did not converge. You might want to increase the number of iterations, check the scale of the features or consider increasing regularisation. Duality gap: 4.344e+07, tolerance: 3.884e+05\n",
      "  model = cd_fast.enet_coordinate_descent(\n",
      "D:\\ProgramData\\Anaconda3\\lib\\site-packages\\sklearn\\linear_model\\_coordinate_descent.py:647: ConvergenceWarning: Objective did not converge. You might want to increase the number of iterations, check the scale of the features or consider increasing regularisation. Duality gap: 4.709e+07, tolerance: 4.355e+05\n",
      "  model = cd_fast.enet_coordinate_descent(\n",
      "D:\\ProgramData\\Anaconda3\\lib\\site-packages\\sklearn\\linear_model\\_coordinate_descent.py:647: ConvergenceWarning: Objective did not converge. You might want to increase the number of iterations, check the scale of the features or consider increasing regularisation. Duality gap: 4.431e+07, tolerance: 4.348e+05\n",
      "  model = cd_fast.enet_coordinate_descent(\n",
      "D:\\ProgramData\\Anaconda3\\lib\\site-packages\\sklearn\\linear_model\\_coordinate_descent.py:647: ConvergenceWarning: Objective did not converge. You might want to increase the number of iterations, check the scale of the features or consider increasing regularisation. Duality gap: 4.311e+07, tolerance: 3.930e+05\n",
      "  model = cd_fast.enet_coordinate_descent(\n",
      "D:\\ProgramData\\Anaconda3\\lib\\site-packages\\sklearn\\linear_model\\_coordinate_descent.py:647: ConvergenceWarning: Objective did not converge. You might want to increase the number of iterations, check the scale of the features or consider increasing regularisation. Duality gap: 4.427e+07, tolerance: 4.241e+05\n",
      "  model = cd_fast.enet_coordinate_descent(\n",
      "D:\\ProgramData\\Anaconda3\\lib\\site-packages\\sklearn\\linear_model\\_coordinate_descent.py:647: ConvergenceWarning: Objective did not converge. You might want to increase the number of iterations, check the scale of the features or consider increasing regularisation. Duality gap: 4.085e+07, tolerance: 3.950e+05\n",
      "  model = cd_fast.enet_coordinate_descent(\n",
      "D:\\ProgramData\\Anaconda3\\lib\\site-packages\\sklearn\\linear_model\\_coordinate_descent.py:647: ConvergenceWarning: Objective did not converge. You might want to increase the number of iterations, check the scale of the features or consider increasing regularisation. Duality gap: 4.427e+07, tolerance: 4.397e+05\n",
      "  model = cd_fast.enet_coordinate_descent(\n",
      "D:\\ProgramData\\Anaconda3\\lib\\site-packages\\sklearn\\linear_model\\_coordinate_descent.py:647: ConvergenceWarning: Objective did not converge. You might want to increase the number of iterations, check the scale of the features or consider increasing regularisation. Duality gap: 3.857e+07, tolerance: 4.416e+05\n",
      "  model = cd_fast.enet_coordinate_descent(\n",
      "D:\\ProgramData\\Anaconda3\\lib\\site-packages\\sklearn\\linear_model\\_coordinate_descent.py:647: ConvergenceWarning: Objective did not converge. You might want to increase the number of iterations, check the scale of the features or consider increasing regularisation. Duality gap: 4.313e+07, tolerance: 4.083e+05\n",
      "  model = cd_fast.enet_coordinate_descent(\n",
      "D:\\ProgramData\\Anaconda3\\lib\\site-packages\\sklearn\\linear_model\\_coordinate_descent.py:647: ConvergenceWarning: Objective did not converge. You might want to increase the number of iterations, check the scale of the features or consider increasing regularisation. Duality gap: 2.744e+07, tolerance: 3.884e+05\n",
      "  model = cd_fast.enet_coordinate_descent(\n"
     ]
    },
    {
     "name": "stderr",
     "output_type": "stream",
     "text": [
      "D:\\ProgramData\\Anaconda3\\lib\\site-packages\\sklearn\\linear_model\\_coordinate_descent.py:647: ConvergenceWarning: Objective did not converge. You might want to increase the number of iterations, check the scale of the features or consider increasing regularisation. Duality gap: 4.608e+07, tolerance: 4.355e+05\n",
      "  model = cd_fast.enet_coordinate_descent(\n",
      "D:\\ProgramData\\Anaconda3\\lib\\site-packages\\sklearn\\linear_model\\_coordinate_descent.py:647: ConvergenceWarning: Objective did not converge. You might want to increase the number of iterations, check the scale of the features or consider increasing regularisation. Duality gap: 3.035e+06, tolerance: 4.083e+05\n",
      "  model = cd_fast.enet_coordinate_descent(\n"
     ]
    },
    {
     "data": {
      "text/plain": [
       "array([5392054.38983597, 5355673.9127132 , 5011147.04539408,\n",
       "       4860544.63167275, 6283318.30561949, 6767653.71065752,\n",
       "       7988211.4764678 , 7188923.47159935])"
      ]
     },
     "execution_count": 7,
     "metadata": {},
     "output_type": "execute_result"
    }
   ],
   "source": [
    "for i in features_categorical:\n",
    "    sales = onehot_encoder(sales, i)    \n",
    "\n",
    "# Split\n",
    "train_valid, test = train_test_split(sales, test_size = 0.2, random_state = 20190306)\n",
    "train_valid = train_valid.reset_index(drop = True)\n",
    "test = test.reset_index(drop = True)\n",
    "\n",
    "for l in lambda_list:\n",
    "    MSE_Lasso = np.append(MSE_Lasso, kfold_Lasso(train_valid,'price',10, l))\n",
    "\n",
    "MSE_Lasso"
   ]
  },
  {
   "cell_type": "code",
   "execution_count": 8,
   "metadata": {},
   "outputs": [
    {
     "data": {
      "text/plain": [
       "array([5392054.38983597, 5355673.9127132 , 5011147.04539408,\n",
       "       4860544.63167275, 6283318.30561949, 6767653.71065752,\n",
       "       7988211.4764678 , 7188923.47159935])"
      ]
     },
     "execution_count": 8,
     "metadata": {},
     "output_type": "execute_result"
    }
   ],
   "source": [
    "MSE_Lasso"
   ]
  },
  {
   "cell_type": "code",
   "execution_count": 9,
   "metadata": {},
   "outputs": [
    {
     "data": {
      "text/plain": [
       "1.0"
      ]
     },
     "execution_count": 9,
     "metadata": {},
     "output_type": "execute_result"
    }
   ],
   "source": [
    "lambda_selected = lambda_list[MSE_Lasso.argmin()]\n",
    "lambda_selected"
   ]
  },
  {
   "cell_type": "code",
   "execution_count": 10,
   "metadata": {},
   "outputs": [
    {
     "name": "stderr",
     "output_type": "stream",
     "text": [
      "D:\\ProgramData\\Anaconda3\\lib\\site-packages\\sklearn\\linear_model\\_coordinate_descent.py:647: ConvergenceWarning: Objective did not converge. You might want to increase the number of iterations, check the scale of the features or consider increasing regularisation. Duality gap: 4.661e+07, tolerance: 4.565e+05\n",
      "  model = cd_fast.enet_coordinate_descent(\n"
     ]
    },
    {
     "data": {
      "text/plain": [
       "2848659.9596595084"
      ]
     },
     "execution_count": 10,
     "metadata": {},
     "output_type": "execute_result"
    }
   ],
   "source": [
    "# we build linear regression model\n",
    "model_Lasso = linear_model.Lasso(alpha=lambda_selected)\n",
    "\n",
    "# features traget split\n",
    "X_train_valid = train_valid.drop(target, axis = 1)\n",
    "Y_train_valid = train_valid[target]\n",
    "\n",
    "# fit the model\n",
    "model_Lasso.fit(X_train_valid, Y_train_valid)\n",
    "\n",
    "# use the model\n",
    "X_test = test.drop(target, axis = 1)\n",
    "Y_test = test[target]\n",
    "\n",
    "Y_test_fit = model_Lasso.predict(X_test)\n",
    "mean_squared_error(Y_test_fit, Y_test)"
   ]
  },
  {
   "cell_type": "code",
   "execution_count": 11,
   "metadata": {},
   "outputs": [
    {
     "data": {
      "text/plain": [
       "1687.7973692536402"
      ]
     },
     "execution_count": 11,
     "metadata": {},
     "output_type": "execute_result"
    }
   ],
   "source": [
    "np.sqrt(mean_squared_error(Y_test_fit, Y_test))"
   ]
  },
  {
   "cell_type": "code",
   "execution_count": 12,
   "metadata": {},
   "outputs": [
    {
     "name": "stdout",
     "output_type": "stream",
     "text": [
      "Number of features selected: 14\n",
      "['wheel-base' 'width' 'curb-weight' 'engine-size' 'highway-mpg'\n",
      " 'aspiration' 'body-style' 'num-of-cylinders' 'num-of-doors' 'symboling'\n",
      " 'make' 'fuel-system' 'engine-type' 'drive-wheels']\n"
     ]
    }
   ],
   "source": [
    "feature_list = np.delete(sales.columns.values, np.where(sales.columns.values == target))[model_Lasso.coef_>0]\n",
    "i = 0\n",
    "while i < len(feature_list):\n",
    "    loc = feature_list[i].find('_')\n",
    "    if loc > -1:\n",
    "        feature_name = feature_list[i][0:loc]\n",
    "        feature_list = np.delete(feature_list, i)\n",
    "        i -= i \n",
    "        if feature_name not in feature_list:\n",
    "            feature_list = np.append(feature_list, feature_name)\n",
    "    i += 1\n",
    "print(\"Number of features selected: \" + str(len(feature_list)))\n",
    "print(feature_list)"
   ]
  },
  {
   "cell_type": "code",
   "execution_count": 13,
   "metadata": {},
   "outputs": [],
   "source": [
    "def kfold_ElasticNet(data, target, n, lamb):\n",
    "    # We need a vector to record mse from k-fold\n",
    "    MSE = np.array([]) \n",
    "    \n",
    "    # KFold is a build-in function in Scikit-learn\n",
    "    #    it can help us cut data into n pieces \n",
    "    #    (compare with simple cross validation)\n",
    "    kf = KFold(n_splits = n, random_state = 20190306, shuffle=True)\n",
    "    \n",
    "    for train_index, validation_index in kf.split(data):\n",
    "\n",
    "        # obtain the train and validation part\n",
    "        train, valid = data.loc[train_index,:], data.loc[validation_index,:]\n",
    "        \n",
    "        # extract X and Y to be fit in a Ridge regression model\n",
    "        X_train = train.drop(target, axis = 1)\n",
    "        Y_train = train[target]        \n",
    "        X_valid = valid.drop(target, axis = 1)\n",
    "        Y_valid = valid[target]\n",
    "\n",
    "        # build Ridge regression model\n",
    "        model = linear_model.ElasticNet(alpha = lamb, l1_ratio = 1/3, random_state = 20190306)\n",
    "        \n",
    "        # fit model using training data\n",
    "        model.fit(X_train,Y_train)\n",
    "        \n",
    "        # predict using validation data\n",
    "        Y_valid_fit = model.predict(X_valid)\n",
    "        \n",
    "        # Calculate MSE\n",
    "        MSE_temp = mean_squared_error(Y_valid_fit, Y_valid)\n",
    "        \n",
    "        # Add MSE to the list\n",
    "        MSE = np.append(MSE, MSE_temp)\n",
    "        \n",
    "    return MSE.mean()"
   ]
  },
  {
   "cell_type": "code",
   "execution_count": 14,
   "metadata": {},
   "outputs": [
    {
     "name": "stderr",
     "output_type": "stream",
     "text": [
      "D:\\ProgramData\\Anaconda3\\lib\\site-packages\\sklearn\\linear_model\\_coordinate_descent.py:647: ConvergenceWarning: Objective did not converge. You might want to increase the number of iterations, check the scale of the features or consider increasing regularisation. Duality gap: 5.173e+07, tolerance: 3.449e+05\n",
      "  model = cd_fast.enet_coordinate_descent(\n",
      "D:\\ProgramData\\Anaconda3\\lib\\site-packages\\sklearn\\linear_model\\_coordinate_descent.py:647: ConvergenceWarning: Objective did not converge. You might want to increase the number of iterations, check the scale of the features or consider increasing regularisation. Duality gap: 5.592e+07, tolerance: 4.348e+05\n",
      "  model = cd_fast.enet_coordinate_descent(\n",
      "D:\\ProgramData\\Anaconda3\\lib\\site-packages\\sklearn\\linear_model\\_coordinate_descent.py:647: ConvergenceWarning: Objective did not converge. You might want to increase the number of iterations, check the scale of the features or consider increasing regularisation. Duality gap: 4.319e+07, tolerance: 3.930e+05\n",
      "  model = cd_fast.enet_coordinate_descent(\n",
      "D:\\ProgramData\\Anaconda3\\lib\\site-packages\\sklearn\\linear_model\\_coordinate_descent.py:647: ConvergenceWarning: Objective did not converge. You might want to increase the number of iterations, check the scale of the features or consider increasing regularisation. Duality gap: 5.214e+07, tolerance: 4.241e+05\n",
      "  model = cd_fast.enet_coordinate_descent(\n",
      "D:\\ProgramData\\Anaconda3\\lib\\site-packages\\sklearn\\linear_model\\_coordinate_descent.py:647: ConvergenceWarning: Objective did not converge. You might want to increase the number of iterations, check the scale of the features or consider increasing regularisation. Duality gap: 4.713e+07, tolerance: 3.950e+05\n",
      "  model = cd_fast.enet_coordinate_descent(\n",
      "D:\\ProgramData\\Anaconda3\\lib\\site-packages\\sklearn\\linear_model\\_coordinate_descent.py:647: ConvergenceWarning: Objective did not converge. You might want to increase the number of iterations, check the scale of the features or consider increasing regularisation. Duality gap: 5.144e+07, tolerance: 4.397e+05\n",
      "  model = cd_fast.enet_coordinate_descent(\n",
      "D:\\ProgramData\\Anaconda3\\lib\\site-packages\\sklearn\\linear_model\\_coordinate_descent.py:647: ConvergenceWarning: Objective did not converge. You might want to increase the number of iterations, check the scale of the features or consider increasing regularisation. Duality gap: 5.260e+07, tolerance: 4.416e+05\n",
      "  model = cd_fast.enet_coordinate_descent(\n",
      "D:\\ProgramData\\Anaconda3\\lib\\site-packages\\sklearn\\linear_model\\_coordinate_descent.py:647: ConvergenceWarning: Objective did not converge. You might want to increase the number of iterations, check the scale of the features or consider increasing regularisation. Duality gap: 5.420e+07, tolerance: 4.083e+05\n",
      "  model = cd_fast.enet_coordinate_descent(\n",
      "D:\\ProgramData\\Anaconda3\\lib\\site-packages\\sklearn\\linear_model\\_coordinate_descent.py:647: ConvergenceWarning: Objective did not converge. You might want to increase the number of iterations, check the scale of the features or consider increasing regularisation. Duality gap: 5.099e+07, tolerance: 3.884e+05\n",
      "  model = cd_fast.enet_coordinate_descent(\n",
      "D:\\ProgramData\\Anaconda3\\lib\\site-packages\\sklearn\\linear_model\\_coordinate_descent.py:647: ConvergenceWarning: Objective did not converge. You might want to increase the number of iterations, check the scale of the features or consider increasing regularisation. Duality gap: 5.542e+07, tolerance: 4.355e+05\n",
      "  model = cd_fast.enet_coordinate_descent(\n"
     ]
    },
    {
     "data": {
      "text/plain": [
       "array([4132093.41426942, 4952096.91955969, 6116316.87378376,\n",
       "       6846500.27294865, 7573867.85945378, 7509473.4880744 ,\n",
       "       7247848.70976864, 7200705.72873158])"
      ]
     },
     "execution_count": 14,
     "metadata": {},
     "output_type": "execute_result"
    }
   ],
   "source": [
    "MSE_ElasticNet = np.array([]) \n",
    "\n",
    "# Split\n",
    "train_valid, test = train_test_split(sales, test_size = 0.2, random_state = 20190306)\n",
    "train_valid = train_valid.reset_index(drop = True)\n",
    "test = test.reset_index(drop = True)\n",
    "\n",
    "for lamb in lambda_list:\n",
    "    MSE_ElasticNet = np.append(MSE_ElasticNet, kfold_ElasticNet(train_valid,'price',10, lamb))\n",
    "\n",
    "MSE_ElasticNet"
   ]
  },
  {
   "cell_type": "code",
   "execution_count": 15,
   "metadata": {},
   "outputs": [
    {
     "data": {
      "text/plain": [
       "1.0"
      ]
     },
     "execution_count": 15,
     "metadata": {},
     "output_type": "execute_result"
    }
   ],
   "source": [
    "lambda_selected = lambda_list[MSE_Lasso.argmin()]\n",
    "lambda_selected"
   ]
  },
  {
   "cell_type": "code",
   "execution_count": 16,
   "metadata": {},
   "outputs": [
    {
     "data": {
      "text/plain": [
       "7973032.673162295"
      ]
     },
     "execution_count": 16,
     "metadata": {},
     "output_type": "execute_result"
    }
   ],
   "source": [
    "# we build linear regression model\n",
    "model_ElasticNet = linear_model.ElasticNet(alpha=lambda_selected)\n",
    "\n",
    "# features traget split\n",
    "X_train_valid = train_valid.drop(target, axis = 1)\n",
    "Y_train_valid = train_valid[target]\n",
    "\n",
    "# fit the model\n",
    "model_ElasticNet.fit(X_train_valid, Y_train_valid)\n",
    "\n",
    "# use the model\n",
    "X_test = test.drop(target, axis = 1)\n",
    "Y_test = test[target]\n",
    "\n",
    "Y_test_fit = model_ElasticNet.predict(X_test)\n",
    "mean_squared_error(Y_test_fit, Y_test)"
   ]
  },
  {
   "cell_type": "code",
   "execution_count": 17,
   "metadata": {},
   "outputs": [
    {
     "data": {
      "text/plain": [
       "2823.6559055880543"
      ]
     },
     "execution_count": 17,
     "metadata": {},
     "output_type": "execute_result"
    }
   ],
   "source": [
    "np.sqrt(mean_squared_error(Y_test_fit, Y_test))"
   ]
  },
  {
   "cell_type": "code",
   "execution_count": 18,
   "metadata": {},
   "outputs": [
    {
     "name": "stdout",
     "output_type": "stream",
     "text": [
      "Number of features selected: 18\n",
      "['wheel-base' 'width' 'curb-weight' 'engine-size' 'compression-ratio'\n",
      " 'horsepower' 'peak-rpm' 'city-mpg' 'aspiration' 'body-style'\n",
      " 'num-of-cylinders' 'fuel-type' 'num-of-doors' 'symboling' 'make'\n",
      " 'fuel-system' 'engine-type' 'drive-wheels']\n"
     ]
    }
   ],
   "source": [
    "feature_list = np.delete(sales.columns.values, np.where(sales.columns.values == target))[model_ElasticNet.coef_>0]\n",
    "i = 0\n",
    "while i < len(feature_list):\n",
    "    loc = feature_list[i].find('_')\n",
    "    if loc > -1:\n",
    "        feature_name = feature_list[i][0:loc]\n",
    "        feature_list = np.delete(feature_list, i)\n",
    "        i -= i \n",
    "        if feature_name not in feature_list:\n",
    "            feature_list = np.append(feature_list, feature_name)\n",
    "    i += 1\n",
    "print(\"Number of features selected: \" + str(len(feature_list)))\n",
    "print(feature_list)"
   ]
  },
  {
   "cell_type": "code",
   "execution_count": null,
   "metadata": {},
   "outputs": [],
   "source": []
  }
 ],
 "metadata": {
  "kernelspec": {
   "display_name": "Python 3 (ipykernel)",
   "language": "python",
   "name": "python3"
  },
  "language_info": {
   "codemirror_mode": {
    "name": "ipython",
    "version": 3
   },
   "file_extension": ".py",
   "mimetype": "text/x-python",
   "name": "python",
   "nbconvert_exporter": "python",
   "pygments_lexer": "ipython3",
   "version": "3.9.12"
  },
  "toc": {
   "base_numbering": 1,
   "nav_menu": {},
   "number_sections": true,
   "sideBar": true,
   "skip_h1_title": false,
   "title_cell": "Table of Contents",
   "title_sidebar": "Contents",
   "toc_cell": false,
   "toc_position": {},
   "toc_section_display": true,
   "toc_window_display": false
  }
 },
 "nbformat": 4,
 "nbformat_minor": 2
}
