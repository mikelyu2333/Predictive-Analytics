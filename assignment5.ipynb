{
 "cells": [
  {
   "cell_type": "markdown",
   "metadata": {},
   "source": [
    "Assignment-5\n",
    "\n",
    "Your main task for this assignment is to combine Linear Regression, Greedy Algorithm and PnL discussed in lecture to predict your trading results. You will be predicting Bitcoin price this time. You should refer to the ipynb file for this tutorial to get the structure. \n",
    "\n",
    "This time the prediction will be slightly different from the Lab. Every prediction should be a result from a model that is trained based on the previous 400 days. Example: if you are predicting 1-1-2019, the model should be trained using the previous 400 days, and so on.\n",
    "\n",
    "\n",
    "The instruction to the assignment are as follow:\n",
    "\n",
    "1. Read BTC price data\n",
    "2. Only keep `close` column for analysis.\n",
    "3. Create features that correspond to the time interval in which we want to predict\n",
    "4. Drop all rows with missing value.\n",
    "5. Set `fix_history_length` equal to 400, `fix_test_length` equal to 100\n",
    "6. Use Greedy Algorithm instead of All Subset Selection\n",
    "7. Find 50 different samples of Return using the given seed format\n",
    "8. Use a histogram to summarize your result. Make sure to adjust the histogram settings to make it look nice\n",
    "\n",
    "The total running time should be about 7 hours. Do not shut down your kernel during the computation."
   ]
  },
  {
   "cell_type": "code",
   "execution_count": 35,
   "metadata": {},
   "outputs": [],
   "source": [
    "import pandas as pd\n",
    "import numpy as np\n",
    "import matplotlib.pyplot as plt\n",
    "%matplotlib inline\n",
    "from sklearn import linear_model\n",
    "from sklearn.model_selection import train_test_split"
   ]
  },
  {
   "cell_type": "code",
   "execution_count": 2,
   "metadata": {},
   "outputs": [],
   "source": [
    "BTC_price_origin = pd.read_csv('BTC-USD.csv',index_col = 'Date')\n",
    "BTC_price_origin = BTC_price_origin[['Close']]\n",
    "\n",
    "BTC = BTC_price_origin.copy()\n",
    "\n",
    "# compute Return\n",
    "BTC['Return'] = BTC.Close.diff()/BTC.Close\n",
    "\n",
    "# change index into date format\n",
    "BTC.index = pd.to_datetime(BTC.index, format='%Y-%m-%d')"
   ]
  },
  {
   "cell_type": "code",
   "execution_count": 3,
   "metadata": {},
   "outputs": [
    {
     "data": {
      "text/html": [
       "<div>\n",
       "<style scoped>\n",
       "    .dataframe tbody tr th:only-of-type {\n",
       "        vertical-align: middle;\n",
       "    }\n",
       "\n",
       "    .dataframe tbody tr th {\n",
       "        vertical-align: top;\n",
       "    }\n",
       "\n",
       "    .dataframe thead th {\n",
       "        text-align: right;\n",
       "    }\n",
       "</style>\n",
       "<table border=\"1\" class=\"dataframe\">\n",
       "  <thead>\n",
       "    <tr style=\"text-align: right;\">\n",
       "      <th></th>\n",
       "      <th>Close</th>\n",
       "      <th>Return</th>\n",
       "    </tr>\n",
       "    <tr>\n",
       "      <th>Date</th>\n",
       "      <th></th>\n",
       "      <th></th>\n",
       "    </tr>\n",
       "  </thead>\n",
       "  <tbody>\n",
       "    <tr>\n",
       "      <th>2015-03-07</th>\n",
       "      <td>274.910004</td>\n",
       "      <td>NaN</td>\n",
       "    </tr>\n",
       "    <tr>\n",
       "      <th>2015-03-08</th>\n",
       "      <td>274.489990</td>\n",
       "      <td>-0.001530</td>\n",
       "    </tr>\n",
       "    <tr>\n",
       "      <th>2015-03-09</th>\n",
       "      <td>290.019989</td>\n",
       "      <td>0.053548</td>\n",
       "    </tr>\n",
       "    <tr>\n",
       "      <th>2015-03-10</th>\n",
       "      <td>291.369995</td>\n",
       "      <td>0.004633</td>\n",
       "    </tr>\n",
       "    <tr>\n",
       "      <th>2015-03-11</th>\n",
       "      <td>295.600006</td>\n",
       "      <td>0.014310</td>\n",
       "    </tr>\n",
       "    <tr>\n",
       "      <th>...</th>\n",
       "      <td>...</td>\n",
       "      <td>...</td>\n",
       "    </tr>\n",
       "    <tr>\n",
       "      <th>2019-03-03</th>\n",
       "      <td>3812.310059</td>\n",
       "      <td>-0.008034</td>\n",
       "    </tr>\n",
       "    <tr>\n",
       "      <th>2019-03-04</th>\n",
       "      <td>3731.280029</td>\n",
       "      <td>-0.021716</td>\n",
       "    </tr>\n",
       "    <tr>\n",
       "      <th>2019-03-05</th>\n",
       "      <td>3874.179932</td>\n",
       "      <td>0.036885</td>\n",
       "    </tr>\n",
       "    <tr>\n",
       "      <th>2019-03-06</th>\n",
       "      <td>3874.979980</td>\n",
       "      <td>0.000206</td>\n",
       "    </tr>\n",
       "    <tr>\n",
       "      <th>2019-03-07</th>\n",
       "      <td>3882.610107</td>\n",
       "      <td>0.001965</td>\n",
       "    </tr>\n",
       "  </tbody>\n",
       "</table>\n",
       "<p>1462 rows × 2 columns</p>\n",
       "</div>"
      ],
      "text/plain": [
       "                  Close    Return\n",
       "Date                             \n",
       "2015-03-07   274.910004       NaN\n",
       "2015-03-08   274.489990 -0.001530\n",
       "2015-03-09   290.019989  0.053548\n",
       "2015-03-10   291.369995  0.004633\n",
       "2015-03-11   295.600006  0.014310\n",
       "...                 ...       ...\n",
       "2019-03-03  3812.310059 -0.008034\n",
       "2019-03-04  3731.280029 -0.021716\n",
       "2019-03-05  3874.179932  0.036885\n",
       "2019-03-06  3874.979980  0.000206\n",
       "2019-03-07  3882.610107  0.001965\n",
       "\n",
       "[1462 rows x 2 columns]"
      ]
     },
     "execution_count": 3,
     "metadata": {},
     "output_type": "execute_result"
    }
   ],
   "source": [
    "BTC"
   ]
  },
  {
   "cell_type": "code",
   "execution_count": 4,
   "metadata": {},
   "outputs": [],
   "source": [
    "predictor_variables = ['1D','3D','1W','2W','3W','1M','6W','2M','3M','4M','5M','6M','9M','1Y']\n",
    "def ShiftNum(var):\n",
    "    if var[1]=='D':\n",
    "        return int(var[0])\n",
    "    elif var[1]=='W':\n",
    "        return int(var[0])*7\n",
    "    elif var[1]=='M':\n",
    "        return int(var[0])*30\n",
    "    elif var[1]=='Y':\n",
    "        return int(var[0])*365\n",
    "    else:\n",
    "        return(\"Please give a str whose format is xD, xW, xM, xY.\")\n",
    "\n",
    "# shift Return by the value of each feature\n",
    "for var in predictor_variables:\n",
    "    name = 'Return_' + var\n",
    "    BTC[name] = BTC.Return.shift(ShiftNum(var))\n",
    "\n",
    "# drop the first 250 rows (cuz they do not have feature '1Y')\n",
    "BTC = BTC.dropna()\n",
    "target = ['Return']\n",
    "features = BTC.columns.values.tolist()[2:]"
   ]
  },
  {
   "cell_type": "code",
   "execution_count": 5,
   "metadata": {},
   "outputs": [],
   "source": [
    "fix_history_length = 400\n",
    "fix_test_length = 100\n",
    "sample_size = 50\n",
    "randomRange = len(BTC) - fix_history_length - fix_test_length"
   ]
  },
  {
   "cell_type": "code",
   "execution_count": 6,
   "metadata": {},
   "outputs": [],
   "source": [
    "# compute Long-short value\n",
    "def computation(df):\n",
    "    for i in range(1,len(df)):\n",
    "        if df.iloc[i,1]>=0:\n",
    "            df.iloc[i,2] = df.iloc[i-1,2] * (1 + df.iloc[i,0])\n",
    "        else:\n",
    "            df.iloc[i,2] = df.iloc[i-1,2] * (1 - df.iloc[i,0])\n",
    "    return df"
   ]
  },
  {
   "cell_type": "code",
   "execution_count": 7,
   "metadata": {},
   "outputs": [],
   "source": [
    "def PnL(data, target, proportion):\n",
    "\n",
    "    train_sub, valid_sub = train_test_split(data, test_size = proportion, random_state = 0)\n",
    "\n",
    "    # create a linear model\n",
    "    X_train = train_sub.drop(target, axis = 1)\n",
    "    Y_train = train_sub[target]\n",
    "    X_valid = valid_sub.drop(target, axis = 1)\n",
    "    Y_valid = valid_sub[target]\n",
    "    \n",
    "    model = linear_model.LinearRegression()\n",
    "    model.fit(X_train, Y_train)\n",
    "    Y_valid_fit = model.predict(X_valid)   \n",
    "\n",
    "    # a data frame for computing and saving long_short value\n",
    "    long_short_df = pd.DataFrame({'Return': Y_valid.iloc[:,0].values,\n",
    "                                  'Predicted Return': Y_valid_fit.reshape(1,-1)[0].tolist(),\n",
    "                                  'Long-short value': np.zeros(len(valid_sub))},\n",
    "                                 index = valid_sub.index)\n",
    "    \n",
    "    cols = ['Return', 'Predicted Return', 'Long-short value']\n",
    "    long_short_df = long_short_df[cols]\n",
    "    \n",
    "    # give an initial point\n",
    "    initial = pd.DataFrame(np.array([0,0,1]).reshape(-1,3),\n",
    "                       columns = long_short_df.columns)\n",
    "\n",
    "    # combine df and initial point\n",
    "    long_short_df = pd.concat([initial, long_short_df])\n",
    "\n",
    "    # compute long_short value\n",
    "    long_short_df_final = computation(long_short_df)\n",
    "\n",
    "    # return final long_short value of this period\n",
    "    return long_short_df_final.iloc[-1,2]"
   ]
  },
  {
   "cell_type": "code",
   "execution_count": 8,
   "metadata": {},
   "outputs": [],
   "source": [
    "def greedy_algo(train_valid, target, proportion):\n",
    "    \n",
    "    # initialize a list to save features\n",
    "    greedy_select = []\n",
    "    \n",
    "    profit_greedy_algo = np.array([])\n",
    "    for i in range(len(features)):\n",
    "        profit = np.array([])\n",
    "        features_left = list(set(features) - set(greedy_select))\n",
    "\n",
    "        for new in features_left:\n",
    "            features_new = greedy_select + [new]\n",
    "            train_valid_sub = train_valid[features_new + target]\n",
    "\n",
    "            # CrossValidation, compute the profit and save it into profit_sub\n",
    "            profit_sub = PnL(train_valid_sub, target, proportion)\n",
    "            profit = np.append(profit, profit_sub)\n",
    "\n",
    "        # pick the features that gives the largest profit\n",
    "        # and add it into our features list\n",
    "        # meanwhile, save the corresponding profit\n",
    "        greedy_select += [features_left[profit.argmax()]]\n",
    "        profit_greedy_algo = np.append(profit_greedy_algo, profit.max())\n",
    "        \n",
    "    return greedy_select[:profit_greedy_algo.argmax()+1]"
   ]
  },
  {
   "cell_type": "code",
   "execution_count": null,
   "metadata": {},
   "outputs": [],
   "source": [
    "%%time\n",
    "profit_final = np.array([])\n",
    "\n",
    "# Think about why we need two loops here:\n",
    "# The answer is that this time, we need to change the training data for each day, each sample\n",
    "# In total, we have 50 samples\n",
    "for j in range(sample_size): #change 1 into sample size\n",
    "    np.random.seed(j)\n",
    "    random_Num = np.random.randint(randomRange)\n",
    "    \n",
    "    Y_test_fit = np.array([])\n",
    "    for i in range(fix_test_length):  \n",
    "\n",
    "        BeginTime = random_Num + i\n",
    "        timestamp = fix_history_length + BeginTime\n",
    "        EndTime = BeginTime + fix_test_length + fix_test_length\n",
    "\n",
    "        train_valid = BTC.iloc[BeginTime:timestamp, : ]\n",
    "        \n",
    "        feature_update = greedy_algo(train_valid, target, 0.2)\n",
    "        \n",
    "        X_cv = train_valid[feature_update]\n",
    "        Y_cv = train_valid[target]\n",
    "\n",
    "        model_cv = linear_model.LinearRegression()\n",
    "        model_cv.fit(X_cv, Y_cv)\n",
    "        \n",
    "        test = BTC.iloc[timestamp : timestamp + 1,:]\n",
    "        X_test = test[feature_update]\n",
    "        Y_test = test[target]\n",
    "        \n",
    "        model = linear_model.LinearRegression()\n",
    "        model.fit(X_cv, Y_cv)\n",
    "        Y_test_fit = np.append(Y_test_fit,model.predict(X_test))\n",
    "        \n",
    "    Y_test_list = BTC.iloc[random_Num + fix_history_length : random_Num + fix_history_length + fix_test_length, 1]\n",
    "    long_short_df = pd.DataFrame({'Return': Y_test_list,\n",
    "                                  'Predicted Return': Y_test_fit,\n",
    "                                  'Long-short value': np.zeros(fix_test_length)},\n",
    "                                 index = Y_test_list.index)\n",
    "    \n",
    "    cols = ['Return', 'Predicted Return', 'Long-short value']\n",
    "    long_short_df = long_short_df[cols]\n",
    "    \n",
    "    # give an initial point\n",
    "    initial = pd.DataFrame(np.array([0,0,1]).reshape(-1,3),columns = long_short_df.columns)\n",
    "    # combine df and initial point\n",
    "    long_short_df = pd.concat([initial, long_short_df])\n",
    "    # compute long_short value\n",
    "    long_short_df_final = computation(long_short_df)\n",
    "   \n",
    "    profit_final = np.append(profit_final,long_short_df_final.iloc[-1,2])\n",
    "        "
   ]
  },
  {
   "cell_type": "code",
   "execution_count": 36,
   "metadata": {},
   "outputs": [],
   "source": [
    "# restored from last run\n",
    "profit_final = np.asarray([1.68888102, 0.89403204, 0.98898046, 0.31366224, 1.19808599,\n",
    "       0.35156756, 0.38741442, 1.00649273, 0.5552195 , 0.56689965,\n",
    "       0.37959508, 0.85557617, 0.56747156, 0.71038407, 0.68147143,\n",
    "       0.54995524, 0.28436433, 0.26557388, 0.53820138, 0.7435868 ,\n",
    "       0.75770602, 0.3364802 , 1.39244591, 1.07941005, 0.68550108,\n",
    "       1.39244591, 0.60873911, 1.05425014, 0.38302342, 0.72103286,\n",
    "       0.66370744, 0.96027153, 1.6273793 , 1.05803783, 0.70399837,\n",
    "       0.33166927, 0.8744897 , 0.79293656, 0.70399837, 0.59046151,\n",
    "       0.53148523, 0.85557617, 1.71473566, 0.60782915, 0.67566062,\n",
    "       0.68002279, 0.79870475, 1.48961758, 0.94669361, 0.74627344])"
   ]
  },
  {
   "cell_type": "code",
   "execution_count": 37,
   "metadata": {},
   "outputs": [
    {
     "data": {
      "text/plain": [
       "0.26557388"
      ]
     },
     "execution_count": 37,
     "metadata": {},
     "output_type": "execute_result"
    }
   ],
   "source": [
    "profit_final.min()"
   ]
  },
  {
   "cell_type": "code",
   "execution_count": 38,
   "metadata": {},
   "outputs": [
    {
     "data": {
      "text/plain": [
       "1.71473566"
      ]
     },
     "execution_count": 38,
     "metadata": {},
     "output_type": "execute_result"
    }
   ],
   "source": [
    "profit_final.max()"
   ]
  },
  {
   "cell_type": "code",
   "execution_count": 41,
   "metadata": {
    "scrolled": true
   },
   "outputs": [
    {
     "data": {
      "text/plain": [
       "Text(1.2, 5, '100 test points')"
      ]
     },
     "execution_count": 41,
     "metadata": {},
     "output_type": "execute_result"
    },
    {
     "data": {
      "image/png": "[encoded data removed]",
      "text/plain": [
       "<Figure size 800x500 with 1 Axes>"
      ]
     },
     "metadata": {},
     "output_type": "display_data"
    }
   ],
   "source": [
    "fig = plt.figure(figsize=(8,5))\n",
    "bins = np.linspace(0.2-1, 1.8-1, 17)\n",
    "a = plt.hist(profit_final-1, bins, histtype='bar', rwidth=0.9)\n",
    "for i in range(len(bins)-1):\n",
    "    plt.text(a[1][i]+0.04,a[0][i]+0.2,int(a[0][i]))\n",
    "plt.title(\"histogram of 50 Returns for cryptocurrency--'Bitcoin'\")\n",
    "\n",
    "# you should change the coordinates of the plot to make it look nice\n",
    "pos_x = 1.2\n",
    "pos_y = 8\n",
    "plt.text(pos_x, pos_y, (\"Avg Return: {0:.2f}%\".format((profit_final.mean() - 1) * 100)))\n",
    "plt.text(pos_x, pos_y - 1, (\"Std dev: {0:.2f}%\".format(profit_final.std() * 100)))\n",
    "plt.text(pos_x, pos_y - 2, \"400 training points\")\n",
    "plt.text(pos_x, pos_y - 3, \"100 test points\")"
   ]
  },
  {
   "cell_type": "code",
   "execution_count": null,
   "metadata": {},
   "outputs": [],
   "source": []
  }
 ],
 "metadata": {
  "kernelspec": {
   "display_name": "Python 3 (ipykernel)",
   "language": "python",
   "name": "python3"
  },
  "language_info": {
   "codemirror_mode": {
    "name": "ipython",
    "version": 3
   },
   "file_extension": ".py",
   "mimetype": "text/x-python",
   "name": "python",
   "nbconvert_exporter": "python",
   "pygments_lexer": "ipython3",
   "version": "3.9.12"
  },
  "toc": {
   "base_numbering": 1,
   "nav_menu": {},
   "number_sections": true,
   "sideBar": true,
   "skip_h1_title": false,
   "title_cell": "Table of Contents",
   "title_sidebar": "Contents",
   "toc_cell": false,
   "toc_position": {},
   "toc_section_display": true,
   "toc_window_display": false
  }
 },
 "nbformat": 4,
 "nbformat_minor": 4
}
