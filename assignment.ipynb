{
 "cells": [
  {
   "cell_type": "markdown",
   "metadata": {},
   "source": [
    "##### Assignment 1"
   ]
  },
  {
   "cell_type": "markdown",
   "metadata": {},
   "source": [
    "### Problem 1\n",
    "\n",
    "Solve the following linear system using Numpy and round the answer to 2 decimals:\n",
    "\n",
    "34.53a + 70.36b + 57.69c = 15.33\n",
    "\n",
    "20.79a + 22.02b + 35.9c = 82.5\n",
    "\n",
    "58.02a + 68.21c = 44.02"
   ]
  },
  {
   "cell_type": "code",
   "execution_count": 1,
   "metadata": {},
   "outputs": [
    {
     "name": "stdout",
     "output_type": "stream",
     "text": [
      "[-12.74  -2.94  11.48]\n"
     ]
    }
   ],
   "source": [
    "import numpy as np\n",
    "x = np.array([[34.53,70.36,57.69],[20.79,22.02,35.9],[58.02,0,68.21]])\n",
    "y = np.array([15.33,82.5,44.02])\n",
    "ans = np.around(np.linalg.solve(x,y),2) \n",
    "print(ans)"
   ]
  },
  {
   "cell_type": "markdown",
   "metadata": {},
   "source": [
    "### Problem 2\n",
    "\n",
    "Find the 5th largest value in the following array:"
   ]
  },
  {
   "cell_type": "code",
   "execution_count": 2,
   "metadata": {},
   "outputs": [
    {
     "name": "stdout",
     "output_type": "stream",
     "text": [
      "[0.37454012 0.95071431 0.73199394 0.59865848 0.15601864 0.15599452\n",
      " 0.05808361 0.86617615 0.60111501 0.70807258 0.02058449 0.96990985\n",
      " 0.83244264 0.21233911 0.18182497 0.18340451 0.30424224 0.52475643\n",
      " 0.43194502 0.29122914]\n"
     ]
    }
   ],
   "source": [
    "import numpy as np\n",
    "\n",
    "np.random.seed(42)\n",
    "array = np.random.rand(20)\n",
    "print(array)"
   ]
  },
  {
   "cell_type": "markdown",
   "metadata": {},
   "source": [
    "*Hint: look for functions to sort arrays in Numpy documentation!*"
   ]
  },
  {
   "cell_type": "code",
   "execution_count": 3,
   "metadata": {},
   "outputs": [
    {
     "data": {
      "text/plain": [
       "0.7319939418114051"
      ]
     },
     "execution_count": 3,
     "metadata": {},
     "output_type": "execute_result"
    }
   ],
   "source": [
    "np.sort(array)[-5]"
   ]
  },
  {
   "cell_type": "markdown",
   "metadata": {},
   "source": [
    "### Problem 3\n",
    "\n",
    "Manipulate the Pandas dataframe following the instructions."
   ]
  },
  {
   "cell_type": "code",
   "execution_count": 4,
   "metadata": {},
   "outputs": [],
   "source": [
    "import pandas as pd"
   ]
  },
  {
   "cell_type": "markdown",
   "metadata": {},
   "source": [
    "Read a `csv` file which is called `assignment.csv`."
   ]
  },
  {
   "cell_type": "code",
   "execution_count": 5,
   "metadata": {
    "scrolled": true
   },
   "outputs": [],
   "source": [
    "assignment = pd.read_csv('assignment.csv')"
   ]
  },
  {
   "cell_type": "markdown",
   "metadata": {},
   "source": [
    "View the first 5 rows in this dataframe."
   ]
  },
  {
   "cell_type": "code",
   "execution_count": 6,
   "metadata": {},
   "outputs": [
    {
     "data": {
      "text/html": [
       "<div>\n",
       "<style scoped>\n",
       "    .dataframe tbody tr th:only-of-type {\n",
       "        vertical-align: middle;\n",
       "    }\n",
       "\n",
       "    .dataframe tbody tr th {\n",
       "        vertical-align: top;\n",
       "    }\n",
       "\n",
       "    .dataframe thead th {\n",
       "        text-align: right;\n",
       "    }\n",
       "</style>\n",
       "<table border=\"1\" class=\"dataframe\">\n",
       "  <thead>\n",
       "    <tr style=\"text-align: right;\">\n",
       "      <th></th>\n",
       "      <th>Order ID</th>\n",
       "      <th>Order Type</th>\n",
       "      <th>Source</th>\n",
       "      <th>Destination</th>\n",
       "      <th>Begin Time</th>\n",
       "      <th>End Time</th>\n",
       "    </tr>\n",
       "  </thead>\n",
       "  <tbody>\n",
       "    <tr>\n",
       "      <th>0</th>\n",
       "      <td>A5007D</td>\n",
       "      <td>retrieval</td>\n",
       "      <td>M0086</td>\n",
       "      <td>M3111</td>\n",
       "      <td>2017/10/22 00:20</td>\n",
       "      <td>2017/10/22 01:44</td>\n",
       "    </tr>\n",
       "    <tr>\n",
       "      <th>1</th>\n",
       "      <td>A5101D</td>\n",
       "      <td>reshuffle</td>\n",
       "      <td>M0026</td>\n",
       "      <td>M0045</td>\n",
       "      <td>2017/10/28 23:35</td>\n",
       "      <td>2017/10/29 00:12</td>\n",
       "    </tr>\n",
       "    <tr>\n",
       "      <th>2</th>\n",
       "      <td>A5101D</td>\n",
       "      <td>retrieval</td>\n",
       "      <td>M0045</td>\n",
       "      <td>M3111</td>\n",
       "      <td>2017/10/29 00:17</td>\n",
       "      <td>2017/10/29 02:47</td>\n",
       "    </tr>\n",
       "    <tr>\n",
       "      <th>3</th>\n",
       "      <td>A5101D</td>\n",
       "      <td>storage</td>\n",
       "      <td>M7312</td>\n",
       "      <td>M0026</td>\n",
       "      <td>2017/10/28 05:46</td>\n",
       "      <td>2017/10/28 06:01</td>\n",
       "    </tr>\n",
       "    <tr>\n",
       "      <th>4</th>\n",
       "      <td>A5152D</td>\n",
       "      <td>retrieval</td>\n",
       "      <td>M0396</td>\n",
       "      <td>M3111</td>\n",
       "      <td>2017/10/22 00:21</td>\n",
       "      <td>2017/10/22 01:46</td>\n",
       "    </tr>\n",
       "  </tbody>\n",
       "</table>\n",
       "</div>"
      ],
      "text/plain": [
       "  Order ID Order Type Source Destination        Begin Time          End Time\n",
       "0   A5007D  retrieval  M0086       M3111  2017/10/22 00:20  2017/10/22 01:44\n",
       "1   A5101D  reshuffle  M0026       M0045  2017/10/28 23:35  2017/10/29 00:12\n",
       "2   A5101D  retrieval  M0045       M3111  2017/10/29 00:17  2017/10/29 02:47\n",
       "3   A5101D    storage  M7312       M0026  2017/10/28 05:46  2017/10/28 06:01\n",
       "4   A5152D  retrieval  M0396       M3111  2017/10/22 00:21  2017/10/22 01:46"
      ]
     },
     "execution_count": 6,
     "metadata": {},
     "output_type": "execute_result"
    }
   ],
   "source": [
    "assignment[0:5]"
   ]
  },
  {
   "cell_type": "markdown",
   "metadata": {},
   "source": [
    "Sort the full dataframe by `Order Type`."
   ]
  },
  {
   "cell_type": "code",
   "execution_count": 7,
   "metadata": {},
   "outputs": [
    {
     "data": {
      "text/html": [
       "<div>\n",
       "<style scoped>\n",
       "    .dataframe tbody tr th:only-of-type {\n",
       "        vertical-align: middle;\n",
       "    }\n",
       "\n",
       "    .dataframe tbody tr th {\n",
       "        vertical-align: top;\n",
       "    }\n",
       "\n",
       "    .dataframe thead th {\n",
       "        text-align: right;\n",
       "    }\n",
       "</style>\n",
       "<table border=\"1\" class=\"dataframe\">\n",
       "  <thead>\n",
       "    <tr style=\"text-align: right;\">\n",
       "      <th></th>\n",
       "      <th>Order ID</th>\n",
       "      <th>Order Type</th>\n",
       "      <th>Source</th>\n",
       "      <th>Destination</th>\n",
       "      <th>Begin Time</th>\n",
       "      <th>End Time</th>\n",
       "    </tr>\n",
       "  </thead>\n",
       "  <tbody>\n",
       "    <tr>\n",
       "      <th>1</th>\n",
       "      <td>A5101D</td>\n",
       "      <td>reshuffle</td>\n",
       "      <td>M0026</td>\n",
       "      <td>M0045</td>\n",
       "      <td>2017/10/28 23:35</td>\n",
       "      <td>2017/10/29 00:12</td>\n",
       "    </tr>\n",
       "    <tr>\n",
       "      <th>14</th>\n",
       "      <td>A5559D</td>\n",
       "      <td>reshuffle</td>\n",
       "      <td>P0286</td>\n",
       "      <td>P0336</td>\n",
       "      <td>2017/10/31 06:55</td>\n",
       "      <td>2017/10/31 06:57</td>\n",
       "    </tr>\n",
       "    <tr>\n",
       "      <th>0</th>\n",
       "      <td>A5007D</td>\n",
       "      <td>retrieval</td>\n",
       "      <td>M0086</td>\n",
       "      <td>M3111</td>\n",
       "      <td>2017/10/22 00:20</td>\n",
       "      <td>2017/10/22 01:44</td>\n",
       "    </tr>\n",
       "    <tr>\n",
       "      <th>15</th>\n",
       "      <td>A5559D</td>\n",
       "      <td>retrieval</td>\n",
       "      <td>P0336</td>\n",
       "      <td>P7213</td>\n",
       "      <td>2017/10/31 07:34</td>\n",
       "      <td>2017/10/31 08:23</td>\n",
       "    </tr>\n",
       "    <tr>\n",
       "      <th>11</th>\n",
       "      <td>A5499D</td>\n",
       "      <td>retrieval</td>\n",
       "      <td>P0976</td>\n",
       "      <td>R7212</td>\n",
       "      <td>2017/10/24 07:33</td>\n",
       "      <td>2017/10/24 08:00</td>\n",
       "    </tr>\n",
       "    <tr>\n",
       "      <th>10</th>\n",
       "      <td>A5499D</td>\n",
       "      <td>retrieval</td>\n",
       "      <td>N0076</td>\n",
       "      <td>P0055</td>\n",
       "      <td>2017/10/24 04:32</td>\n",
       "      <td>2017/10/24 05:15</td>\n",
       "    </tr>\n",
       "    <tr>\n",
       "      <th>18</th>\n",
       "      <td>A5656D</td>\n",
       "      <td>retrieval</td>\n",
       "      <td>P0036</td>\n",
       "      <td>Q1111</td>\n",
       "      <td>2017/10/24 02:32</td>\n",
       "      <td>2017/10/24 04:24</td>\n",
       "    </tr>\n",
       "    <tr>\n",
       "      <th>19</th>\n",
       "      <td>A5656D</td>\n",
       "      <td>retrieval</td>\n",
       "      <td>Q0317</td>\n",
       "      <td>R7212</td>\n",
       "      <td>2017/10/24 07:34</td>\n",
       "      <td>2017/10/24 08:13</td>\n",
       "    </tr>\n",
       "    <tr>\n",
       "      <th>5</th>\n",
       "      <td>A5384D</td>\n",
       "      <td>retrieval</td>\n",
       "      <td>G0126</td>\n",
       "      <td>G7213</td>\n",
       "      <td>2017/10/29 00:19</td>\n",
       "      <td>2017/10/29 02:27</td>\n",
       "    </tr>\n",
       "    <tr>\n",
       "      <th>4</th>\n",
       "      <td>A5152D</td>\n",
       "      <td>retrieval</td>\n",
       "      <td>M0396</td>\n",
       "      <td>M3111</td>\n",
       "      <td>2017/10/22 00:21</td>\n",
       "      <td>2017/10/22 01:46</td>\n",
       "    </tr>\n",
       "    <tr>\n",
       "      <th>2</th>\n",
       "      <td>A5101D</td>\n",
       "      <td>retrieval</td>\n",
       "      <td>M0045</td>\n",
       "      <td>M3111</td>\n",
       "      <td>2017/10/29 00:17</td>\n",
       "      <td>2017/10/29 02:47</td>\n",
       "    </tr>\n",
       "    <tr>\n",
       "      <th>7</th>\n",
       "      <td>A5440D</td>\n",
       "      <td>retrieval</td>\n",
       "      <td>N0947</td>\n",
       "      <td>N7712</td>\n",
       "      <td>2017/10/31 15:15</td>\n",
       "      <td>2017/10/31 15:44</td>\n",
       "    </tr>\n",
       "    <tr>\n",
       "      <th>8</th>\n",
       "      <td>A5440D</td>\n",
       "      <td>storage</td>\n",
       "      <td>P1312</td>\n",
       "      <td>N0946</td>\n",
       "      <td>2017/10/31 04:56</td>\n",
       "      <td>2017/10/31 05:30</td>\n",
       "    </tr>\n",
       "    <tr>\n",
       "      <th>6</th>\n",
       "      <td>A5384D</td>\n",
       "      <td>storage</td>\n",
       "      <td>G7412</td>\n",
       "      <td>G0126</td>\n",
       "      <td>2017/10/28 08:02</td>\n",
       "      <td>2017/10/28 08:11</td>\n",
       "    </tr>\n",
       "    <tr>\n",
       "      <th>12</th>\n",
       "      <td>A5499D</td>\n",
       "      <td>storage</td>\n",
       "      <td>P0075</td>\n",
       "      <td>P0976</td>\n",
       "      <td>2017/10/24 06:26</td>\n",
       "      <td>2017/10/24 06:46</td>\n",
       "    </tr>\n",
       "    <tr>\n",
       "      <th>13</th>\n",
       "      <td>A5499D</td>\n",
       "      <td>storage</td>\n",
       "      <td>P3212</td>\n",
       "      <td>N0076</td>\n",
       "      <td>2017/10/24 01:49</td>\n",
       "      <td>2017/10/24 03:26</td>\n",
       "    </tr>\n",
       "    <tr>\n",
       "      <th>3</th>\n",
       "      <td>A5101D</td>\n",
       "      <td>storage</td>\n",
       "      <td>M7312</td>\n",
       "      <td>M0026</td>\n",
       "      <td>2017/10/28 05:46</td>\n",
       "      <td>2017/10/28 06:01</td>\n",
       "    </tr>\n",
       "    <tr>\n",
       "      <th>16</th>\n",
       "      <td>A5559D</td>\n",
       "      <td>storage</td>\n",
       "      <td>P0055</td>\n",
       "      <td>P0286</td>\n",
       "      <td>2017/10/31 05:09</td>\n",
       "      <td>2017/10/31 05:29</td>\n",
       "    </tr>\n",
       "    <tr>\n",
       "      <th>17</th>\n",
       "      <td>A5559D</td>\n",
       "      <td>transfer</td>\n",
       "      <td>P3422</td>\n",
       "      <td>Q1112</td>\n",
       "      <td>2017/10/31 03:36</td>\n",
       "      <td>2017/10/31 04:12</td>\n",
       "    </tr>\n",
       "    <tr>\n",
       "      <th>9</th>\n",
       "      <td>A5440D</td>\n",
       "      <td>transfer</td>\n",
       "      <td>P7312</td>\n",
       "      <td>P0065</td>\n",
       "      <td>2017/10/31 02:23</td>\n",
       "      <td>2017/10/31 02:41</td>\n",
       "    </tr>\n",
       "  </tbody>\n",
       "</table>\n",
       "</div>"
      ],
      "text/plain": [
       "   Order ID Order Type Source Destination        Begin Time          End Time\n",
       "1    A5101D  reshuffle  M0026       M0045  2017/10/28 23:35  2017/10/29 00:12\n",
       "14   A5559D  reshuffle  P0286       P0336  2017/10/31 06:55  2017/10/31 06:57\n",
       "0    A5007D  retrieval  M0086       M3111  2017/10/22 00:20  2017/10/22 01:44\n",
       "15   A5559D  retrieval  P0336       P7213  2017/10/31 07:34  2017/10/31 08:23\n",
       "11   A5499D  retrieval  P0976       R7212  2017/10/24 07:33  2017/10/24 08:00\n",
       "10   A5499D  retrieval  N0076       P0055  2017/10/24 04:32  2017/10/24 05:15\n",
       "18   A5656D  retrieval  P0036       Q1111  2017/10/24 02:32  2017/10/24 04:24\n",
       "19   A5656D  retrieval  Q0317       R7212  2017/10/24 07:34  2017/10/24 08:13\n",
       "5    A5384D  retrieval  G0126       G7213  2017/10/29 00:19  2017/10/29 02:27\n",
       "4    A5152D  retrieval  M0396       M3111  2017/10/22 00:21  2017/10/22 01:46\n",
       "2    A5101D  retrieval  M0045       M3111  2017/10/29 00:17  2017/10/29 02:47\n",
       "7    A5440D  retrieval  N0947       N7712  2017/10/31 15:15  2017/10/31 15:44\n",
       "8    A5440D    storage  P1312       N0946  2017/10/31 04:56  2017/10/31 05:30\n",
       "6    A5384D    storage  G7412       G0126  2017/10/28 08:02  2017/10/28 08:11\n",
       "12   A5499D    storage  P0075       P0976  2017/10/24 06:26  2017/10/24 06:46\n",
       "13   A5499D    storage  P3212       N0076  2017/10/24 01:49  2017/10/24 03:26\n",
       "3    A5101D    storage  M7312       M0026  2017/10/28 05:46  2017/10/28 06:01\n",
       "16   A5559D    storage  P0055       P0286  2017/10/31 05:09  2017/10/31 05:29\n",
       "17   A5559D   transfer  P3422       Q1112  2017/10/31 03:36  2017/10/31 04:12\n",
       "9    A5440D   transfer  P7312       P0065  2017/10/31 02:23  2017/10/31 02:41"
      ]
     },
     "execution_count": 7,
     "metadata": {},
     "output_type": "execute_result"
    }
   ],
   "source": [
    "assignment.sort_values(by='Order Type')"
   ]
  },
  {
   "cell_type": "markdown",
   "metadata": {},
   "source": [
    "Select all rows whose `Order Type` is `storage`."
   ]
  },
  {
   "cell_type": "code",
   "execution_count": 8,
   "metadata": {},
   "outputs": [
    {
     "data": {
      "text/html": [
       "<div>\n",
       "<style scoped>\n",
       "    .dataframe tbody tr th:only-of-type {\n",
       "        vertical-align: middle;\n",
       "    }\n",
       "\n",
       "    .dataframe tbody tr th {\n",
       "        vertical-align: top;\n",
       "    }\n",
       "\n",
       "    .dataframe thead th {\n",
       "        text-align: right;\n",
       "    }\n",
       "</style>\n",
       "<table border=\"1\" class=\"dataframe\">\n",
       "  <thead>\n",
       "    <tr style=\"text-align: right;\">\n",
       "      <th></th>\n",
       "      <th>Order ID</th>\n",
       "      <th>Order Type</th>\n",
       "      <th>Source</th>\n",
       "      <th>Destination</th>\n",
       "      <th>Begin Time</th>\n",
       "      <th>End Time</th>\n",
       "    </tr>\n",
       "  </thead>\n",
       "  <tbody>\n",
       "    <tr>\n",
       "      <th>3</th>\n",
       "      <td>A5101D</td>\n",
       "      <td>storage</td>\n",
       "      <td>M7312</td>\n",
       "      <td>M0026</td>\n",
       "      <td>2017/10/28 05:46</td>\n",
       "      <td>2017/10/28 06:01</td>\n",
       "    </tr>\n",
       "    <tr>\n",
       "      <th>6</th>\n",
       "      <td>A5384D</td>\n",
       "      <td>storage</td>\n",
       "      <td>G7412</td>\n",
       "      <td>G0126</td>\n",
       "      <td>2017/10/28 08:02</td>\n",
       "      <td>2017/10/28 08:11</td>\n",
       "    </tr>\n",
       "    <tr>\n",
       "      <th>8</th>\n",
       "      <td>A5440D</td>\n",
       "      <td>storage</td>\n",
       "      <td>P1312</td>\n",
       "      <td>N0946</td>\n",
       "      <td>2017/10/31 04:56</td>\n",
       "      <td>2017/10/31 05:30</td>\n",
       "    </tr>\n",
       "    <tr>\n",
       "      <th>12</th>\n",
       "      <td>A5499D</td>\n",
       "      <td>storage</td>\n",
       "      <td>P0075</td>\n",
       "      <td>P0976</td>\n",
       "      <td>2017/10/24 06:26</td>\n",
       "      <td>2017/10/24 06:46</td>\n",
       "    </tr>\n",
       "    <tr>\n",
       "      <th>13</th>\n",
       "      <td>A5499D</td>\n",
       "      <td>storage</td>\n",
       "      <td>P3212</td>\n",
       "      <td>N0076</td>\n",
       "      <td>2017/10/24 01:49</td>\n",
       "      <td>2017/10/24 03:26</td>\n",
       "    </tr>\n",
       "    <tr>\n",
       "      <th>16</th>\n",
       "      <td>A5559D</td>\n",
       "      <td>storage</td>\n",
       "      <td>P0055</td>\n",
       "      <td>P0286</td>\n",
       "      <td>2017/10/31 05:09</td>\n",
       "      <td>2017/10/31 05:29</td>\n",
       "    </tr>\n",
       "  </tbody>\n",
       "</table>\n",
       "</div>"
      ],
      "text/plain": [
       "   Order ID Order Type Source Destination        Begin Time          End Time\n",
       "3    A5101D    storage  M7312       M0026  2017/10/28 05:46  2017/10/28 06:01\n",
       "6    A5384D    storage  G7412       G0126  2017/10/28 08:02  2017/10/28 08:11\n",
       "8    A5440D    storage  P1312       N0946  2017/10/31 04:56  2017/10/31 05:30\n",
       "12   A5499D    storage  P0075       P0976  2017/10/24 06:26  2017/10/24 06:46\n",
       "13   A5499D    storage  P3212       N0076  2017/10/24 01:49  2017/10/24 03:26\n",
       "16   A5559D    storage  P0055       P0286  2017/10/31 05:09  2017/10/31 05:29"
      ]
     },
     "execution_count": 8,
     "metadata": {},
     "output_type": "execute_result"
    }
   ],
   "source": [
    "assignment[assignment['Order Type'] == 'storage']"
   ]
  },
  {
   "cell_type": "markdown",
   "metadata": {},
   "source": [
    "Transform `Begin Time` and `End Time` to date format."
   ]
  },
  {
   "cell_type": "code",
   "execution_count": 9,
   "metadata": {},
   "outputs": [],
   "source": [
    "assignment['Begin Time'] = pd.to_datetime(assignment['Begin Time'])"
   ]
  },
  {
   "cell_type": "code",
   "execution_count": 10,
   "metadata": {},
   "outputs": [],
   "source": [
    "assignment['End Time'] = pd.to_datetime(assignment['End Time'])"
   ]
  },
  {
   "cell_type": "markdown",
   "metadata": {},
   "source": [
    "Group the dataframe by `Order ID` and  `Order Type`, and count the size."
   ]
  },
  {
   "cell_type": "code",
   "execution_count": 11,
   "metadata": {},
   "outputs": [
    {
     "data": {
      "text/plain": [
       "Order ID  Order Type\n",
       "A5007D    retrieval     1\n",
       "A5101D    reshuffle     1\n",
       "          retrieval     1\n",
       "          storage       1\n",
       "A5152D    retrieval     1\n",
       "A5384D    retrieval     1\n",
       "          storage       1\n",
       "A5440D    retrieval     1\n",
       "          storage       1\n",
       "          transfer      1\n",
       "A5499D    retrieval     2\n",
       "          storage       2\n",
       "A5559D    reshuffle     1\n",
       "          retrieval     1\n",
       "          storage       1\n",
       "          transfer      1\n",
       "A5656D    retrieval     2\n",
       "dtype: int64"
      ]
     },
     "execution_count": 11,
     "metadata": {},
     "output_type": "execute_result"
    }
   ],
   "source": [
    "assignment.groupby(['Order ID','Order Type']).size()"
   ]
  },
  {
   "cell_type": "markdown",
   "metadata": {},
   "source": [
    "Use `Processing Time`  =  `End Time` - `Begin Time`,  add a new column called `Process Time`."
   ]
  },
  {
   "cell_type": "code",
   "execution_count": 12,
   "metadata": {},
   "outputs": [],
   "source": [
    "assignment['Process Time'] = assignment['End Time'] - assignment['Begin Time']"
   ]
  },
  {
   "cell_type": "code",
   "execution_count": 13,
   "metadata": {},
   "outputs": [
    {
     "data": {
      "text/html": [
       "<div>\n",
       "<style scoped>\n",
       "    .dataframe tbody tr th:only-of-type {\n",
       "        vertical-align: middle;\n",
       "    }\n",
       "\n",
       "    .dataframe tbody tr th {\n",
       "        vertical-align: top;\n",
       "    }\n",
       "\n",
       "    .dataframe thead th {\n",
       "        text-align: right;\n",
       "    }\n",
       "</style>\n",
       "<table border=\"1\" class=\"dataframe\">\n",
       "  <thead>\n",
       "    <tr style=\"text-align: right;\">\n",
       "      <th></th>\n",
       "      <th>Order ID</th>\n",
       "      <th>Order Type</th>\n",
       "      <th>Source</th>\n",
       "      <th>Destination</th>\n",
       "      <th>Begin Time</th>\n",
       "      <th>End Time</th>\n",
       "      <th>Process Time</th>\n",
       "    </tr>\n",
       "  </thead>\n",
       "  <tbody>\n",
       "    <tr>\n",
       "      <th>0</th>\n",
       "      <td>A5007D</td>\n",
       "      <td>retrieval</td>\n",
       "      <td>M0086</td>\n",
       "      <td>M3111</td>\n",
       "      <td>2017-10-22 00:20:00</td>\n",
       "      <td>2017-10-22 01:44:00</td>\n",
       "      <td>0 days 01:24:00</td>\n",
       "    </tr>\n",
       "    <tr>\n",
       "      <th>1</th>\n",
       "      <td>A5101D</td>\n",
       "      <td>reshuffle</td>\n",
       "      <td>M0026</td>\n",
       "      <td>M0045</td>\n",
       "      <td>2017-10-28 23:35:00</td>\n",
       "      <td>2017-10-29 00:12:00</td>\n",
       "      <td>0 days 00:37:00</td>\n",
       "    </tr>\n",
       "    <tr>\n",
       "      <th>2</th>\n",
       "      <td>A5101D</td>\n",
       "      <td>retrieval</td>\n",
       "      <td>M0045</td>\n",
       "      <td>M3111</td>\n",
       "      <td>2017-10-29 00:17:00</td>\n",
       "      <td>2017-10-29 02:47:00</td>\n",
       "      <td>0 days 02:30:00</td>\n",
       "    </tr>\n",
       "    <tr>\n",
       "      <th>3</th>\n",
       "      <td>A5101D</td>\n",
       "      <td>storage</td>\n",
       "      <td>M7312</td>\n",
       "      <td>M0026</td>\n",
       "      <td>2017-10-28 05:46:00</td>\n",
       "      <td>2017-10-28 06:01:00</td>\n",
       "      <td>0 days 00:15:00</td>\n",
       "    </tr>\n",
       "    <tr>\n",
       "      <th>4</th>\n",
       "      <td>A5152D</td>\n",
       "      <td>retrieval</td>\n",
       "      <td>M0396</td>\n",
       "      <td>M3111</td>\n",
       "      <td>2017-10-22 00:21:00</td>\n",
       "      <td>2017-10-22 01:46:00</td>\n",
       "      <td>0 days 01:25:00</td>\n",
       "    </tr>\n",
       "    <tr>\n",
       "      <th>5</th>\n",
       "      <td>A5384D</td>\n",
       "      <td>retrieval</td>\n",
       "      <td>G0126</td>\n",
       "      <td>G7213</td>\n",
       "      <td>2017-10-29 00:19:00</td>\n",
       "      <td>2017-10-29 02:27:00</td>\n",
       "      <td>0 days 02:08:00</td>\n",
       "    </tr>\n",
       "    <tr>\n",
       "      <th>6</th>\n",
       "      <td>A5384D</td>\n",
       "      <td>storage</td>\n",
       "      <td>G7412</td>\n",
       "      <td>G0126</td>\n",
       "      <td>2017-10-28 08:02:00</td>\n",
       "      <td>2017-10-28 08:11:00</td>\n",
       "      <td>0 days 00:09:00</td>\n",
       "    </tr>\n",
       "    <tr>\n",
       "      <th>7</th>\n",
       "      <td>A5440D</td>\n",
       "      <td>retrieval</td>\n",
       "      <td>N0947</td>\n",
       "      <td>N7712</td>\n",
       "      <td>2017-10-31 15:15:00</td>\n",
       "      <td>2017-10-31 15:44:00</td>\n",
       "      <td>0 days 00:29:00</td>\n",
       "    </tr>\n",
       "    <tr>\n",
       "      <th>8</th>\n",
       "      <td>A5440D</td>\n",
       "      <td>storage</td>\n",
       "      <td>P1312</td>\n",
       "      <td>N0946</td>\n",
       "      <td>2017-10-31 04:56:00</td>\n",
       "      <td>2017-10-31 05:30:00</td>\n",
       "      <td>0 days 00:34:00</td>\n",
       "    </tr>\n",
       "    <tr>\n",
       "      <th>9</th>\n",
       "      <td>A5440D</td>\n",
       "      <td>transfer</td>\n",
       "      <td>P7312</td>\n",
       "      <td>P0065</td>\n",
       "      <td>2017-10-31 02:23:00</td>\n",
       "      <td>2017-10-31 02:41:00</td>\n",
       "      <td>0 days 00:18:00</td>\n",
       "    </tr>\n",
       "    <tr>\n",
       "      <th>10</th>\n",
       "      <td>A5499D</td>\n",
       "      <td>retrieval</td>\n",
       "      <td>N0076</td>\n",
       "      <td>P0055</td>\n",
       "      <td>2017-10-24 04:32:00</td>\n",
       "      <td>2017-10-24 05:15:00</td>\n",
       "      <td>0 days 00:43:00</td>\n",
       "    </tr>\n",
       "    <tr>\n",
       "      <th>11</th>\n",
       "      <td>A5499D</td>\n",
       "      <td>retrieval</td>\n",
       "      <td>P0976</td>\n",
       "      <td>R7212</td>\n",
       "      <td>2017-10-24 07:33:00</td>\n",
       "      <td>2017-10-24 08:00:00</td>\n",
       "      <td>0 days 00:27:00</td>\n",
       "    </tr>\n",
       "    <tr>\n",
       "      <th>12</th>\n",
       "      <td>A5499D</td>\n",
       "      <td>storage</td>\n",
       "      <td>P0075</td>\n",
       "      <td>P0976</td>\n",
       "      <td>2017-10-24 06:26:00</td>\n",
       "      <td>2017-10-24 06:46:00</td>\n",
       "      <td>0 days 00:20:00</td>\n",
       "    </tr>\n",
       "    <tr>\n",
       "      <th>13</th>\n",
       "      <td>A5499D</td>\n",
       "      <td>storage</td>\n",
       "      <td>P3212</td>\n",
       "      <td>N0076</td>\n",
       "      <td>2017-10-24 01:49:00</td>\n",
       "      <td>2017-10-24 03:26:00</td>\n",
       "      <td>0 days 01:37:00</td>\n",
       "    </tr>\n",
       "    <tr>\n",
       "      <th>14</th>\n",
       "      <td>A5559D</td>\n",
       "      <td>reshuffle</td>\n",
       "      <td>P0286</td>\n",
       "      <td>P0336</td>\n",
       "      <td>2017-10-31 06:55:00</td>\n",
       "      <td>2017-10-31 06:57:00</td>\n",
       "      <td>0 days 00:02:00</td>\n",
       "    </tr>\n",
       "    <tr>\n",
       "      <th>15</th>\n",
       "      <td>A5559D</td>\n",
       "      <td>retrieval</td>\n",
       "      <td>P0336</td>\n",
       "      <td>P7213</td>\n",
       "      <td>2017-10-31 07:34:00</td>\n",
       "      <td>2017-10-31 08:23:00</td>\n",
       "      <td>0 days 00:49:00</td>\n",
       "    </tr>\n",
       "    <tr>\n",
       "      <th>16</th>\n",
       "      <td>A5559D</td>\n",
       "      <td>storage</td>\n",
       "      <td>P0055</td>\n",
       "      <td>P0286</td>\n",
       "      <td>2017-10-31 05:09:00</td>\n",
       "      <td>2017-10-31 05:29:00</td>\n",
       "      <td>0 days 00:20:00</td>\n",
       "    </tr>\n",
       "    <tr>\n",
       "      <th>17</th>\n",
       "      <td>A5559D</td>\n",
       "      <td>transfer</td>\n",
       "      <td>P3422</td>\n",
       "      <td>Q1112</td>\n",
       "      <td>2017-10-31 03:36:00</td>\n",
       "      <td>2017-10-31 04:12:00</td>\n",
       "      <td>0 days 00:36:00</td>\n",
       "    </tr>\n",
       "    <tr>\n",
       "      <th>18</th>\n",
       "      <td>A5656D</td>\n",
       "      <td>retrieval</td>\n",
       "      <td>P0036</td>\n",
       "      <td>Q1111</td>\n",
       "      <td>2017-10-24 02:32:00</td>\n",
       "      <td>2017-10-24 04:24:00</td>\n",
       "      <td>0 days 01:52:00</td>\n",
       "    </tr>\n",
       "    <tr>\n",
       "      <th>19</th>\n",
       "      <td>A5656D</td>\n",
       "      <td>retrieval</td>\n",
       "      <td>Q0317</td>\n",
       "      <td>R7212</td>\n",
       "      <td>2017-10-24 07:34:00</td>\n",
       "      <td>2017-10-24 08:13:00</td>\n",
       "      <td>0 days 00:39:00</td>\n",
       "    </tr>\n",
       "  </tbody>\n",
       "</table>\n",
       "</div>"
      ],
      "text/plain": [
       "   Order ID Order Type Source Destination          Begin Time  \\\n",
       "0    A5007D  retrieval  M0086       M3111 2017-10-22 00:20:00   \n",
       "1    A5101D  reshuffle  M0026       M0045 2017-10-28 23:35:00   \n",
       "2    A5101D  retrieval  M0045       M3111 2017-10-29 00:17:00   \n",
       "3    A5101D    storage  M7312       M0026 2017-10-28 05:46:00   \n",
       "4    A5152D  retrieval  M0396       M3111 2017-10-22 00:21:00   \n",
       "5    A5384D  retrieval  G0126       G7213 2017-10-29 00:19:00   \n",
       "6    A5384D    storage  G7412       G0126 2017-10-28 08:02:00   \n",
       "7    A5440D  retrieval  N0947       N7712 2017-10-31 15:15:00   \n",
       "8    A5440D    storage  P1312       N0946 2017-10-31 04:56:00   \n",
       "9    A5440D   transfer  P7312       P0065 2017-10-31 02:23:00   \n",
       "10   A5499D  retrieval  N0076       P0055 2017-10-24 04:32:00   \n",
       "11   A5499D  retrieval  P0976       R7212 2017-10-24 07:33:00   \n",
       "12   A5499D    storage  P0075       P0976 2017-10-24 06:26:00   \n",
       "13   A5499D    storage  P3212       N0076 2017-10-24 01:49:00   \n",
       "14   A5559D  reshuffle  P0286       P0336 2017-10-31 06:55:00   \n",
       "15   A5559D  retrieval  P0336       P7213 2017-10-31 07:34:00   \n",
       "16   A5559D    storage  P0055       P0286 2017-10-31 05:09:00   \n",
       "17   A5559D   transfer  P3422       Q1112 2017-10-31 03:36:00   \n",
       "18   A5656D  retrieval  P0036       Q1111 2017-10-24 02:32:00   \n",
       "19   A5656D  retrieval  Q0317       R7212 2017-10-24 07:34:00   \n",
       "\n",
       "              End Time    Process Time  \n",
       "0  2017-10-22 01:44:00 0 days 01:24:00  \n",
       "1  2017-10-29 00:12:00 0 days 00:37:00  \n",
       "2  2017-10-29 02:47:00 0 days 02:30:00  \n",
       "3  2017-10-28 06:01:00 0 days 00:15:00  \n",
       "4  2017-10-22 01:46:00 0 days 01:25:00  \n",
       "5  2017-10-29 02:27:00 0 days 02:08:00  \n",
       "6  2017-10-28 08:11:00 0 days 00:09:00  \n",
       "7  2017-10-31 15:44:00 0 days 00:29:00  \n",
       "8  2017-10-31 05:30:00 0 days 00:34:00  \n",
       "9  2017-10-31 02:41:00 0 days 00:18:00  \n",
       "10 2017-10-24 05:15:00 0 days 00:43:00  \n",
       "11 2017-10-24 08:00:00 0 days 00:27:00  \n",
       "12 2017-10-24 06:46:00 0 days 00:20:00  \n",
       "13 2017-10-24 03:26:00 0 days 01:37:00  \n",
       "14 2017-10-31 06:57:00 0 days 00:02:00  \n",
       "15 2017-10-31 08:23:00 0 days 00:49:00  \n",
       "16 2017-10-31 05:29:00 0 days 00:20:00  \n",
       "17 2017-10-31 04:12:00 0 days 00:36:00  \n",
       "18 2017-10-24 04:24:00 0 days 01:52:00  \n",
       "19 2017-10-24 08:13:00 0 days 00:39:00  "
      ]
     },
     "execution_count": 13,
     "metadata": {},
     "output_type": "execute_result"
    }
   ],
   "source": [
    "assignment"
   ]
  },
  {
   "cell_type": "markdown",
   "metadata": {},
   "source": [
    "Compute the mean and median of `Process Time`."
   ]
  },
  {
   "cell_type": "code",
   "execution_count": 14,
   "metadata": {},
   "outputs": [
    {
     "data": {
      "text/plain": [
       "Timedelta('0 days 00:51:42')"
      ]
     },
     "execution_count": 14,
     "metadata": {},
     "output_type": "execute_result"
    }
   ],
   "source": [
    "assignment['Process Time'].mean()"
   ]
  },
  {
   "cell_type": "code",
   "execution_count": 15,
   "metadata": {},
   "outputs": [
    {
     "data": {
      "text/plain": [
       "Timedelta('0 days 00:36:30')"
      ]
     },
     "execution_count": 15,
     "metadata": {},
     "output_type": "execute_result"
    }
   ],
   "source": [
    "assignment['Process Time'].median()"
   ]
  },
  {
   "cell_type": "markdown",
   "metadata": {},
   "source": [
    "### Problem 4\n",
    "\n",
    "Use Matplotlib to draw a **basic line plot**.\n",
    "\n",
    "- use `np.arange(0.0, 1.0, 0.01)` as x-values\n",
    "- use `x ** n` for `n=1, 2, 3, 4` as 4 group y-values\n",
    "- plot four lines together in one graph with legend"
   ]
  },
  {
   "cell_type": "code",
   "execution_count": 16,
   "metadata": {},
   "outputs": [
    {
     "data": {
      "image/png": "[encoded data removed]",
      "text/plain": [
       "<Figure size 432x288 with 1 Axes>"
      ]
     },
     "metadata": {
      "needs_background": "light"
     },
     "output_type": "display_data"
    }
   ],
   "source": [
    "%matplotlib inline\n",
    "import matplotlib.pyplot as plt\n",
    "import numpy as np\n",
    "\n",
    "# Draw the line plot\n",
    "fig, ax = plt.subplots()\n",
    "x = np.arange(0.0, 1.0, 0.01)\n",
    "ax.plot(x, x**1,label = 'x^1')\n",
    "ax.plot(x, x**2,label = 'x^2')\n",
    "ax.plot(x, x**3,label = 'x^3')\n",
    "ax.plot(x, x**4,label = 'x^4')\n",
    "plt.legend()\n",
    "plt.show()"
   ]
  },
  {
   "cell_type": "markdown",
   "metadata": {},
   "source": [
    "### Problem 5\n",
    "\n",
    "Suppose your data is `np.random.randn(1000, 3)` where the numpy seed is 19680801 (`np.random.seed(19680801)`)\n",
    "\n",
    "You need to provide the **histogram** with 10 bins based on your data.\n",
    "\n",
    "Let's color them via `'red', 'tan', 'lime'`.\n",
    "\n",
    "Also set your graph title as `bars with legend`."
   ]
  },
  {
   "cell_type": "code",
   "execution_count": 17,
   "metadata": {},
   "outputs": [
    {
     "data": {
      "text/plain": [
       "<matplotlib.legend.Legend at 0x1431eb58160>"
      ]
     },
     "execution_count": 17,
     "metadata": {},
     "output_type": "execute_result"
    },
    {
     "data": {
      "image/png": "[encoded data removed]",
      "text/plain": [
       "<Figure size 432x288 with 1 Axes>"
      ]
     },
     "metadata": {
      "needs_background": "light"
     },
     "output_type": "display_data"
    }
   ],
   "source": [
    "np.random.seed(19680801)\n",
    "\n",
    "n_bins = 10\n",
    "x = np.random.randn(1000, 3)\n",
    "colors = ['red', 'tan', 'lime']\n",
    "\n",
    "# Draw the bar chart\n",
    "plt.hist(x,bins = n_bins,color = colors,label = ['x1','x2','x3'])\n",
    "plt.title('bars with legend')\n",
    "plt.legend()"
   ]
  },
  {
   "cell_type": "markdown",
   "metadata": {},
   "source": [
    "### Problem 6\n",
    "\n",
    "Let's fake up some data first:\n",
    "```python\n",
    "np.random.seed(19680801)\n",
    "\n",
    "spread = np.random.rand(50) * 100\n",
    "center = np.ones(25) * 50\n",
    "flier_high = np.random.rand(10) * 100 + 100\n",
    "flier_low = np.random.rand(10) * -100\n",
    "data = np.concatenate((spread, center, flier_high, flier_low), 0)\n",
    "```\n",
    "\n",
    "Now, you need to use those data to draw two different **boxplots**, one has `outlier points` while another doesn't.\n",
    "\n",
    "Set the title of the first boxplot graph as `Basic Plot`, the other ones' as `Hide Outlier Points`."
   ]
  },
  {
   "cell_type": "code",
   "execution_count": 18,
   "metadata": {},
   "outputs": [
    {
     "data": {
      "image/png": "[encoded data removed]",
      "text/plain": [
       "<Figure size 432x288 with 2 Axes>"
      ]
     },
     "metadata": {
      "needs_background": "light"
     },
     "output_type": "display_data"
    }
   ],
   "source": [
    "# Fixing random state for reproducibility\n",
    "np.random.seed(19680801)\n",
    "\n",
    "# Fake up some data\n",
    "spread = np.random.rand(50) * 100\n",
    "center = np.ones(25) * 50\n",
    "flier_high = np.random.rand(10) * 100 + 100\n",
    "flier_low = np.random.rand(10) * -100\n",
    "data = np.concatenate((spread, center, flier_high, flier_low), 0)\n",
    "\n",
    "# Plots\n",
    "# Create a figure instance\n",
    "fig, axs = plt.subplots(1,2)\n",
    "# Create the boxplot\n",
    "axs[0].boxplot(data)\n",
    "axs[0].set_title('Basic Plot')\n",
    "axs[1].boxplot(data, 0, '')\n",
    "axs[1].set_title('Hide Outlier Points')\n",
    "fig.subplots_adjust(left=0.08, right=1.98, bottom=0.05, top=0.9,\n",
    "                    hspace=2, wspace=0.5)\n",
    "plt.show()"
   ]
  },
  {
   "cell_type": "code",
   "execution_count": null,
   "metadata": {},
   "outputs": [],
   "source": []
  }
 ],
 "metadata": {
  "kernelspec": {
   "display_name": "Python 3 (ipykernel)",
   "language": "python",
   "name": "python3"
  },
  "language_info": {
   "codemirror_mode": {
    "name": "ipython",
    "version": 3
   },
   "file_extension": ".py",
   "mimetype": "text/x-python",
   "name": "python",
   "nbconvert_exporter": "python",
   "pygments_lexer": "ipython3",
   "version": "3.9.12"
  },
  "toc": {
   "base_numbering": 1,
   "nav_menu": {},
   "number_sections": true,
   "sideBar": true,
   "skip_h1_title": false,
   "title_cell": "Table of Contents",
   "title_sidebar": "Contents",
   "toc_cell": false,
   "toc_position": {},
   "toc_section_display": true,
   "toc_window_display": false
  }
 },
 "nbformat": 4,
 "nbformat_minor": 4
}
