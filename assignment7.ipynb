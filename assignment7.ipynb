{
 "cells": [
  {
   "cell_type": "markdown",
   "metadata": {},
   "source": [
    "## Training a decision tree\n",
    "\n",
    "`sklearn.datasets.load_digits` is a dataset of 8 by 8 images of numbers.\n",
    "In this assignment, you will train a decision tree classifier with sklearn and tune the parameter to get better accuracy."
   ]
  },
  {
   "cell_type": "code",
   "execution_count": 1,
   "metadata": {},
   "outputs": [],
   "source": [
    "# Run the following code to get your training data and test data\n",
    "seed = 20190327\n",
    "import sklearn.datasets\n",
    "from sklearn.model_selection import train_test_split\n",
    "Load_digits = sklearn.datasets.load_digits()\n",
    "X_train, X_test, y_train, y_test = train_test_split(Load_digits.data,\n",
    "                                                    Load_digits.target, \n",
    "                                                    test_size=0.2, \n",
    "                                                    random_state=seed)"
   ]
  },
  {
   "cell_type": "markdown",
   "metadata": {},
   "source": [
    "### In this assignment, you are required to:\n",
    "\n",
    "1. Train a model and test its accuracy\n",
    "\n",
    "    ***Note***: Use `random_state=seed` as an argument of the model so as to get consistent results.\n",
    "    \n",
    "2. Tune the parameter to get better performance \n",
    "\n",
    " ***Note***: In order to get full marks, you need to show your work how you choose the best perameters, rather than just showing what the best parameter is."
   ]
  },
  {
   "cell_type": "code",
   "execution_count": 2,
   "metadata": {},
   "outputs": [],
   "source": [
    "# 1. import model from sklearn\n",
    "# Your code here\n",
    "from sklearn import tree\n",
    "clf = tree.DecisionTreeClassifier()"
   ]
  },
  {
   "cell_type": "code",
   "execution_count": 3,
   "metadata": {},
   "outputs": [],
   "source": [
    "# 2. train you model with X_train and y_train\n",
    "# Your code here\n",
    "clf = clf.fit(X_train, y_train)"
   ]
  },
  {
   "cell_type": "code",
   "execution_count": 4,
   "metadata": {},
   "outputs": [
    {
     "name": "stdout",
     "output_type": "stream",
     "text": [
      "The accuracy on this set is:  86.4%\n"
     ]
    }
   ],
   "source": [
    "# 3. test your performance on X_test and y_test\n",
    "# You can use accuracy_score to get accuracy of you model. You may also compute the score manually.\n",
    "# Your code here\n",
    "from sklearn.metrics import accuracy_score \n",
    "from sklearn.metrics import classification_report\n",
    "# y_predict = clf.predict(X_test)\n",
    "print(\"The accuracy on this set is: \", '{0:.1f}%'.format(100 * clf.score(X_test, y_test)))\n",
    "# print(classification_report(y_test, clf.predict(X_test)))"
   ]
  },
  {
   "cell_type": "markdown",
   "metadata": {},
   "source": [
    "There are several parameters to tune in a decision tree model, (e.g., `max_depth`, `max_features`, `max_leaf_nodes`, `min_samples_leaf`, `min_samples_split`). Try to tune your model by choosing the values for 1 ~ 3 parameters using cross validation. For example:"
   ]
  },
  {
   "cell_type": "code",
   "execution_count": 5,
   "metadata": {},
   "outputs": [
    {
     "name": "stdout",
     "output_type": "stream",
     "text": [
      "The best mmodel has a depth of 18. It's accuracy is 86.7%\n"
     ]
    }
   ],
   "source": [
    "# 4. Try different max_depth and pick the best one\n",
    "# Your code here\n",
    "accu = {}\n",
    "for i in range(1,30):\n",
    "    clf = tree.DecisionTreeClassifier(max_depth = i)\n",
    "    clf = clf.fit(X_train, y_train)\n",
    "    accu[i] = clf.score(X_test, y_test)\n",
    "    \n",
    "max_key = max(accu, key=accu.get)\n",
    "print(\"The best mmodel has a depth of \" + str(max_key) +  \". It's accuracy is \" + '{0:.1f}%'.format(100 * accu[max_key]))"
   ]
  },
  {
   "cell_type": "code",
   "execution_count": 6,
   "metadata": {},
   "outputs": [
    {
     "name": "stdout",
     "output_type": "stream",
     "text": [
      "The best mmodel has a depth of 21 with 43 features. It's accuracy is 90.3%\n",
      "Wall time: 11 s\n"
     ]
    }
   ],
   "source": [
    "%%time\n",
    "# 4.1 You may choose more parameters to tune\n",
    "# try to tune with changing max_depth and max_features \n",
    "accu = {}\n",
    "for i in range(1,30):\n",
    "    for j in range(1,64):\n",
    "            clf = tree.DecisionTreeClassifier(max_depth = i, max_features = j)\n",
    "            clf = clf.fit(X_train, y_train)\n",
    "            my_list = [i, j]\n",
    "            accu[tuple(my_list)] = clf.score(X_test, y_test)\n",
    "\n",
    "max_key = max(accu, key=accu.get)\n",
    "print(\"The best mmodel has a depth of \" + str(max_key[0]) + \n",
    "      \" with \" + str(max_key[1]) + \" features. It's accuracy is \" + '{0:.1f}%'.format(100 * accu[max_key]))"
   ]
  },
  {
   "cell_type": "code",
   "execution_count": 7,
   "metadata": {},
   "outputs": [
    {
     "name": "stdout",
     "output_type": "stream",
     "text": [
      "The best mmodel has a depth of 14 with max_leaf_nodes of 95. It's accuracy is 86.7%\n",
      "Wall time: 26.6 s\n"
     ]
    }
   ],
   "source": [
    "%%time\n",
    "# try to tune with changing max_depth and max_leaf_nodes \n",
    "accu = {}\n",
    "for i in range(1,30):\n",
    "    for j in range(2,100):\n",
    "            clf = tree.DecisionTreeClassifier(max_depth = i, max_leaf_nodes = j)\n",
    "            clf = clf.fit(X_train, y_train)\n",
    "            my_list = [i, j]\n",
    "            accu[tuple(my_list)] = clf.score(X_test, y_test)\n",
    "\n",
    "max_key = max(accu, key=accu.get)\n",
    "print(\"The best mmodel has a depth of \" + str(max_key[0]) + \n",
    "      \" with max_leaf_nodes of \" + str(max_key[1]) + \". It's accuracy is \" + '{0:.1f}%'.format(100 * accu[max_key]))"
   ]
  },
  {
   "cell_type": "code",
   "execution_count": 8,
   "metadata": {},
   "outputs": [
    {
     "name": "stdout",
     "output_type": "stream",
     "text": [
      "The best mmodel has 45 features with max_leaf_nodes of 92. It's accuracy is 90.0%\n",
      "Wall time: 35.6 s\n"
     ]
    }
   ],
   "source": [
    "%%time\n",
    "# try to tune with changing max_features and max_leaf_nodes \n",
    "accu = {}\n",
    "for i in range(1,64):\n",
    "    for j in range(2,100):\n",
    "            clf = tree.DecisionTreeClassifier(max_features = i, max_leaf_nodes = j)\n",
    "            clf = clf.fit(X_train, y_train)\n",
    "            my_list = [i, j]\n",
    "            accu[tuple(my_list)] = clf.score(X_test, y_test)\n",
    "\n",
    "max_key = max(accu, key=accu.get)\n",
    "print(\"The best mmodel has \" + str(max_key[0]) + \n",
    "      \" features with max_leaf_nodes of \" + str(max_key[1]) + \". It's accuracy is \" + '{0:.1f}%'.format(100 * accu[max_key]))"
   ]
  },
  {
   "cell_type": "code",
   "execution_count": 9,
   "metadata": {},
   "outputs": [
    {
     "name": "stdout",
     "output_type": "stream",
     "text": [
      "Wall time: 14min 52s\n"
     ]
    }
   ],
   "source": [
    "%%time\n",
    "# try to tune with changing max_depth, max_features and max_leaf_nodes \n",
    "accu = {}\n",
    "for i in range(1,30):\n",
    "    for j in range(1,64):\n",
    "        for k in range(2,100):\n",
    "            clf = tree.DecisionTreeClassifier(max_depth = i, max_features = j, max_leaf_nodes = k)\n",
    "            clf = clf.fit(X_train, y_train)\n",
    "            my_list = [i, j, k]\n",
    "            accu[tuple(my_list)] = clf.score(X_test, y_test)\n",
    "    \n",
    "max_key = max(accu, key=accu.get)"
   ]
  },
  {
   "cell_type": "code",
   "execution_count": 11,
   "metadata": {},
   "outputs": [
    {
     "name": "stdout",
     "output_type": "stream",
     "text": [
      "The best mmodel has a depth of 9, with 39 features and max_lead_nodes of 86. It's accuracy is 91.1%\n"
     ]
    }
   ],
   "source": [
    "# 5. Show your best result\n",
    "# Your code here\n",
    "print(\"The best mmodel has a depth of \" + str(max_key[0]) + \n",
    "      \", with \" + str(max_key[1]) + \" features and max_lead_nodes of \" + str(max_key[2]) + \n",
    "      \". It's accuracy is \" + '{0:.1f}%'.format(100*accu[max_key]))"
   ]
  },
  {
   "cell_type": "code",
   "execution_count": null,
   "metadata": {},
   "outputs": [],
   "source": []
  }
 ],
 "metadata": {
  "kernelspec": {
   "display_name": "Python 3 (ipykernel)",
   "language": "python",
   "name": "python3"
  },
  "language_info": {
   "codemirror_mode": {
    "name": "ipython",
    "version": 3
   },
   "file_extension": ".py",
   "mimetype": "text/x-python",
   "name": "python",
   "nbconvert_exporter": "python",
   "pygments_lexer": "ipython3",
   "version": "3.9.12"
  },
  "toc": {
   "base_numbering": 1,
   "nav_menu": {},
   "number_sections": true,
   "sideBar": true,
   "skip_h1_title": false,
   "title_cell": "Table of Contents",
   "title_sidebar": "Contents",
   "toc_cell": false,
   "toc_position": {},
   "toc_section_display": true,
   "toc_window_display": false
  }
 },
 "nbformat": 4,
 "nbformat_minor": 2
}
