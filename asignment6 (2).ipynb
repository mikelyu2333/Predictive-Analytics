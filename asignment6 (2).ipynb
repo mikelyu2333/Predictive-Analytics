{
 "cells": [
  {
   "cell_type": "markdown",
   "metadata": {},
   "source": [
    "## Assignment: Cross Validation of Logistic Regression Model\n",
    "\n",
    "Following assignment-1, we have a dataset for titanic passengers. Here is the first 5 rows of the dataset:"
   ]
  },
  {
   "cell_type": "markdown",
   "metadata": {},
   "source": [
    "As you can see, in the dataset we have 6 input features [\"Age\",\"SibSp\",\"Parch\",\"male\",\"Q\",\"S\"] and 1 binary output \"Survived\". In assignment-1, we have generated a logistic regression model with all those 6 features. In this assignment, please iterate over all the possible feature subsets and do cross validation to find the best feature subset.\n",
    "\n",
    "Here are some guidelines:\n",
    "1. Generate all the possible feature subsets;\n",
    "2. Split data into train, valid and test sets. The proportion is $80\\%\\times80\\%:80\\%\\times20\\%:20\\%$;\n",
    "3. Fit a logistic regression model for each feature subset and find the accuracy on the valid set;\n",
    "4. Find the feature subset with maximal accuracy;\n",
    "5. Fit a logistic regression model with the optimal feature subset and calculate the accuracy on test set."
   ]
  },
  {
   "cell_type": "code",
   "execution_count": 1,
   "metadata": {},
   "outputs": [],
   "source": [
    "import pandas as pd\n",
    "import numpy as np\n",
    "\n",
    "import warnings\n",
    "warnings.filterwarnings('ignore')\n",
    "from itertools import combinations\n",
    "\n",
    "from sklearn.model_selection import train_test_split\n",
    "from sklearn import linear_model"
   ]
  },
  {
   "cell_type": "code",
   "execution_count": 2,
   "metadata": {},
   "outputs": [],
   "source": [
    "data = pd.read_csv('titanic_cross_validation.csv')"
   ]
  },
  {
   "cell_type": "code",
   "execution_count": 3,
   "metadata": {},
   "outputs": [],
   "source": [
    "train_valid, test = train_test_split(data, test_size = 0.2, random_state = 0)\n",
    "train, valid = train_test_split(train_valid, test_size = 0.2, random_state = 0)\n",
    "\n",
    "train = train.reset_index(drop = True)\n",
    "valid = valid.reset_index(drop = True)\n",
    "test = test.reset_index(drop = True)\n",
    "features = data.drop(['Survived'], axis = 1).columns\n",
    "target = ['Survived']"
   ]
  },
  {
   "cell_type": "code",
   "execution_count": 4,
   "metadata": {},
   "outputs": [
    {
     "data": {
      "text/plain": [
       "Index(['Age', 'SibSp', 'Parch', 'male', 'Q', 'S'], dtype='object')"
      ]
     },
     "execution_count": 4,
     "metadata": {},
     "output_type": "execute_result"
    }
   ],
   "source": [
    "features"
   ]
  },
  {
   "cell_type": "code",
   "execution_count": 5,
   "metadata": {},
   "outputs": [],
   "source": [
    "def all_subsets(my_list):\n",
    "    subs = []\n",
    "    for i in range(1, len(my_list) + 1):\n",
    "        subs += combinations(my_list, i)\n",
    "    subset_List = []\n",
    "    for i in subs:\n",
    "        subset_List += [list(i)]\n",
    "    return subset_List"
   ]
  },
  {
   "cell_type": "code",
   "execution_count": 6,
   "metadata": {},
   "outputs": [],
   "source": [
    "features_subs = all_subsets(features)\n",
    "accu_cv = np.array([])"
   ]
  },
  {
   "cell_type": "code",
   "execution_count": 7,
   "metadata": {},
   "outputs": [],
   "source": [
    "def CrossValidation(train_cross, valid_cross, target, proporiton):  \n",
    "    \n",
    "    # extract X and Y to be fit in a model\n",
    "    X_train = train_cross.drop(target, axis = 1)\n",
    "    Y_train = train_cross[target]\n",
    "    X_valid = valid_cross.drop(target, axis = 1)\n",
    "    Y_valid = valid_cross[target]\n",
    "    \n",
    "    logisticReg = linear_model.LogisticRegression()\n",
    "    \n",
    "    # fit model using training data\n",
    "    logisticReg.fit(X_train, Y_train)\n",
    "        \n",
    "    return  logisticReg.score(X_valid, Y_valid)"
   ]
  },
  {
   "cell_type": "code",
   "execution_count": 8,
   "metadata": {},
   "outputs": [],
   "source": [
    "for sub in features_subs:\n",
    "    # create a sub dataframe\n",
    "    train_sub = train[sub + target]\n",
    "    valid_sub = valid[sub + target]\n",
    "    sub_accu_cv = CrossValidation(train_sub,valid_sub, 'Survived', 0.2)\n",
    "    accu_cv = np.append(accu_cv, sub_accu_cv)"
   ]
  },
  {
   "cell_type": "code",
   "execution_count": 13,
   "metadata": {},
   "outputs": [
    {
     "data": {
      "text/plain": [
       "['SibSp', 'male']"
      ]
     },
     "execution_count": 13,
     "metadata": {},
     "output_type": "execute_result"
    }
   ],
   "source": [
    "features_selected = features_subs[(accu_cv.argmax())]\n",
    "titanic_data_selected = train[features_selected + target]\n",
    "features_selected"
   ]
  },
  {
   "cell_type": "code",
   "execution_count": 14,
   "metadata": {},
   "outputs": [],
   "source": [
    "# we build linear regression model\n",
    "model_selected = linear_model.LogisticRegression()\n",
    "\n",
    "# features traget split\n",
    "X = train[features_selected]\n",
    "Y = train[target]\n",
    "\n",
    "# fit model\n",
    "model_selected.fit(X, Y)\n",
    "\n",
    "# Use model\n",
    "X_test_selected = test[features_selected]\n",
    "Y_test_selected = test[target]"
   ]
  },
  {
   "cell_type": "code",
   "execution_count": 15,
   "metadata": {},
   "outputs": [
    {
     "data": {
      "text/plain": [
       "array([[85, 20],\n",
       "       [30, 43]], dtype=int64)"
      ]
     },
     "execution_count": 15,
     "metadata": {},
     "output_type": "execute_result"
    }
   ],
   "source": [
    "from sklearn.metrics import confusion_matrix\n",
    "\n",
    "confusion_matrix(Y_test_selected, model_selected.predict(X_test_selected))"
   ]
  },
  {
   "cell_type": "code",
   "execution_count": 16,
   "metadata": {},
   "outputs": [
    {
     "name": "stdout",
     "output_type": "stream",
     "text": [
      "The accuracy on this set is:  0.7191011235955056\n",
      "              precision    recall  f1-score   support\n",
      "\n",
      "           0       0.74      0.81      0.77       105\n",
      "           1       0.68      0.59      0.63        73\n",
      "\n",
      "    accuracy                           0.72       178\n",
      "   macro avg       0.71      0.70      0.70       178\n",
      "weighted avg       0.72      0.72      0.72       178\n",
      "\n"
     ]
    }
   ],
   "source": [
    "from sklearn.metrics import classification_report\n",
    "\n",
    "print(\"The accuracy on this set is: \", model_selected.score(X_test_selected, Y_test_selected))\n",
    "print(classification_report(Y_test_selected, model_selected.predict(X_test_selected)))"
   ]
  }
 ],
 "metadata": {
  "kernelspec": {
   "display_name": "Python 3 (ipykernel)",
   "language": "python",
   "name": "python3"
  },
  "language_info": {
   "codemirror_mode": {
    "name": "ipython",
    "version": 3
   },
   "file_extension": ".py",
   "mimetype": "text/x-python",
   "name": "python",
   "nbconvert_exporter": "python",
   "pygments_lexer": "ipython3",
   "version": "3.9.12"
  }
 },
 "nbformat": 4,
 "nbformat_minor": 2
}
