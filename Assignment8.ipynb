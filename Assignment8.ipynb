{
 "cells": [
  {
   "cell_type": "markdown",
   "metadata": {},
   "source": [
    "# Assignment: Sentiment Classification by AdaBoost and Random Forest\n",
    "\n",
    "In the lab of logistic regression, we talked about the **Amazon review dataset**. This dataset was chosen to contain similar numbers of positive and negative reviews. Here is our objective: **for a given review, we want to predict whether its sentiment is positive or negetive**. We have already established a logistic regression model to solve it. In this assignment, you need to establish both AdaBoost model and Random Forest model to solve this problem. \n",
    "\n",
    "We have processed the dataset for you. Load file `sentiment_classification_processed_data.csv` to access the processed data. In the processed dataset, the column `sentiment` is our target label, with 1 means positive and -1 means negative. All the other columns except `sentiment` are our input features, and each column is corresponding to one important word.\n",
    "\n",
    "You need to do the following tasks:\n",
    "1. Split dataset into training set and testing set using an 80/20 split.\n",
    "2. Generate a logistic regression model, fit the model by training set and calculate the accuracy on testing set.\n",
    "3. Establish an AdaBoost model with the following setting: `n_estimators=5`, `random_state=1`. Calculate the accuracy on training set and test set.\n",
    "4. Establish a Random Forest model with the following setting: `n_estimators=5`, `random_state=1`. Calculate the accuracy on training set and test set.\n",
    "5. Do crossvalidation for AdaBoost. Generate 4 different AdaBoost models by setting `max_depth=2, 5, 10 and 20`. Fix `random_state=1` and `n_estimators=50` for these 4 models. Calculate the accuracy on training set and testing set for all these 4 models.\n",
    "6. Do crossvalidation for Random Forest. Generate 4 Random Forest models by setting `n_estimators=5, 10, 50 and 100`. Fix `random_state=1` and `max_depth` to be default value for these 4 models. Calculate the accuracy on training set and testing set for all these 4 models."
   ]
  },
  {
   "cell_type": "code",
   "execution_count": 1,
   "metadata": {},
   "outputs": [
    {
     "data": {
      "text/html": [
       "<div>\n",
       "<style scoped>\n",
       "    .dataframe tbody tr th:only-of-type {\n",
       "        vertical-align: middle;\n",
       "    }\n",
       "\n",
       "    .dataframe tbody tr th {\n",
       "        vertical-align: top;\n",
       "    }\n",
       "\n",
       "    .dataframe thead th {\n",
       "        text-align: right;\n",
       "    }\n",
       "</style>\n",
       "<table border=\"1\" class=\"dataframe\">\n",
       "  <thead>\n",
       "    <tr style=\"text-align: right;\">\n",
       "      <th></th>\n",
       "      <th>baby</th>\n",
       "      <th>one</th>\n",
       "      <th>great</th>\n",
       "      <th>love</th>\n",
       "      <th>use</th>\n",
       "      <th>would</th>\n",
       "      <th>like</th>\n",
       "      <th>easy</th>\n",
       "      <th>little</th>\n",
       "      <th>seat</th>\n",
       "      <th>...</th>\n",
       "      <th>picture</th>\n",
       "      <th>completely</th>\n",
       "      <th>wish</th>\n",
       "      <th>buying</th>\n",
       "      <th>babies</th>\n",
       "      <th>won</th>\n",
       "      <th>tub</th>\n",
       "      <th>almost</th>\n",
       "      <th>either</th>\n",
       "      <th>sentiment</th>\n",
       "    </tr>\n",
       "  </thead>\n",
       "  <tbody>\n",
       "    <tr>\n",
       "      <th>0</th>\n",
       "      <td>0</td>\n",
       "      <td>0</td>\n",
       "      <td>1</td>\n",
       "      <td>0</td>\n",
       "      <td>0</td>\n",
       "      <td>0</td>\n",
       "      <td>0</td>\n",
       "      <td>1</td>\n",
       "      <td>0</td>\n",
       "      <td>0</td>\n",
       "      <td>...</td>\n",
       "      <td>0</td>\n",
       "      <td>0</td>\n",
       "      <td>0</td>\n",
       "      <td>0</td>\n",
       "      <td>0</td>\n",
       "      <td>0</td>\n",
       "      <td>0</td>\n",
       "      <td>0</td>\n",
       "      <td>0</td>\n",
       "      <td>1</td>\n",
       "    </tr>\n",
       "    <tr>\n",
       "      <th>1</th>\n",
       "      <td>0</td>\n",
       "      <td>0</td>\n",
       "      <td>0</td>\n",
       "      <td>0</td>\n",
       "      <td>0</td>\n",
       "      <td>0</td>\n",
       "      <td>0</td>\n",
       "      <td>0</td>\n",
       "      <td>0</td>\n",
       "      <td>0</td>\n",
       "      <td>...</td>\n",
       "      <td>0</td>\n",
       "      <td>0</td>\n",
       "      <td>0</td>\n",
       "      <td>0</td>\n",
       "      <td>0</td>\n",
       "      <td>0</td>\n",
       "      <td>0</td>\n",
       "      <td>0</td>\n",
       "      <td>0</td>\n",
       "      <td>1</td>\n",
       "    </tr>\n",
       "    <tr>\n",
       "      <th>2</th>\n",
       "      <td>1</td>\n",
       "      <td>0</td>\n",
       "      <td>0</td>\n",
       "      <td>0</td>\n",
       "      <td>0</td>\n",
       "      <td>0</td>\n",
       "      <td>0</td>\n",
       "      <td>0</td>\n",
       "      <td>0</td>\n",
       "      <td>0</td>\n",
       "      <td>...</td>\n",
       "      <td>0</td>\n",
       "      <td>0</td>\n",
       "      <td>0</td>\n",
       "      <td>0</td>\n",
       "      <td>0</td>\n",
       "      <td>0</td>\n",
       "      <td>0</td>\n",
       "      <td>0</td>\n",
       "      <td>0</td>\n",
       "      <td>1</td>\n",
       "    </tr>\n",
       "    <tr>\n",
       "      <th>3</th>\n",
       "      <td>0</td>\n",
       "      <td>0</td>\n",
       "      <td>0</td>\n",
       "      <td>0</td>\n",
       "      <td>0</td>\n",
       "      <td>0</td>\n",
       "      <td>1</td>\n",
       "      <td>0</td>\n",
       "      <td>0</td>\n",
       "      <td>0</td>\n",
       "      <td>...</td>\n",
       "      <td>0</td>\n",
       "      <td>0</td>\n",
       "      <td>0</td>\n",
       "      <td>0</td>\n",
       "      <td>0</td>\n",
       "      <td>0</td>\n",
       "      <td>0</td>\n",
       "      <td>0</td>\n",
       "      <td>0</td>\n",
       "      <td>1</td>\n",
       "    </tr>\n",
       "    <tr>\n",
       "      <th>4</th>\n",
       "      <td>0</td>\n",
       "      <td>0</td>\n",
       "      <td>1</td>\n",
       "      <td>0</td>\n",
       "      <td>0</td>\n",
       "      <td>0</td>\n",
       "      <td>0</td>\n",
       "      <td>0</td>\n",
       "      <td>0</td>\n",
       "      <td>0</td>\n",
       "      <td>...</td>\n",
       "      <td>0</td>\n",
       "      <td>0</td>\n",
       "      <td>0</td>\n",
       "      <td>0</td>\n",
       "      <td>1</td>\n",
       "      <td>0</td>\n",
       "      <td>0</td>\n",
       "      <td>0</td>\n",
       "      <td>0</td>\n",
       "      <td>1</td>\n",
       "    </tr>\n",
       "  </tbody>\n",
       "</table>\n",
       "<p>5 rows × 194 columns</p>\n",
       "</div>"
      ],
      "text/plain": [
       "   baby  one  great  love  use  would  like  easy  little  seat  ...  picture  \\\n",
       "0     0    0      1     0    0      0     0     1       0     0  ...        0   \n",
       "1     0    0      0     0    0      0     0     0       0     0  ...        0   \n",
       "2     1    0      0     0    0      0     0     0       0     0  ...        0   \n",
       "3     0    0      0     0    0      0     1     0       0     0  ...        0   \n",
       "4     0    0      1     0    0      0     0     0       0     0  ...        0   \n",
       "\n",
       "   completely  wish  buying  babies  won  tub  almost  either  sentiment  \n",
       "0           0     0       0       0    0    0       0       0          1  \n",
       "1           0     0       0       0    0    0       0       0          1  \n",
       "2           0     0       0       0    0    0       0       0          1  \n",
       "3           0     0       0       0    0    0       0       0          1  \n",
       "4           0     0       0       1    0    0       0       0          1  \n",
       "\n",
       "[5 rows x 194 columns]"
      ]
     },
     "execution_count": 1,
     "metadata": {},
     "output_type": "execute_result"
    }
   ],
   "source": [
    "import pandas as pd\n",
    "data = pd.read_csv('sentiment_classification_processed_data.csv')\n",
    "data.head()"
   ]
  },
  {
   "cell_type": "markdown",
   "metadata": {},
   "source": [
    "## Split data\n",
    "\n",
    "+ Split dataset into training set and testing set using an 80/20 split."
   ]
  },
  {
   "cell_type": "code",
   "execution_count": 2,
   "metadata": {},
   "outputs": [],
   "source": [
    "from sklearn.model_selection import train_test_split\n",
    "\n",
    "# define input features\n",
    "features = data.columns[0:-1]# define output feature (label)\n",
    "label = 'sentiment'\n",
    "\n",
    "# split data into training set and testing set\n",
    "train_data, test_data = train_test_split(data, test_size=.2, random_state=1)\n",
    "train_X, test_X = train_data[features], test_data[features]\n",
    "train_Y, test_Y = train_data[label], test_data[label]"
   ]
  },
  {
   "cell_type": "markdown",
   "metadata": {},
   "source": [
    "## Logistic regression model\n",
    "\n",
    "+ Fit a logistic regression model by training set.\n",
    "+ Calculate the accuracy on testing set."
   ]
  },
  {
   "cell_type": "code",
   "execution_count": 3,
   "metadata": {},
   "outputs": [
    {
     "name": "stdout",
     "output_type": "stream",
     "text": [
      "Logistic Regression accuracy on the training set: 0.79\n"
     ]
    }
   ],
   "source": [
    "from sklearn import linear_model\n",
    "\n",
    "# initialize a logistic regression model\n",
    "logistic = linear_model.LogisticRegression()\n",
    "\n",
    "# fit the logistic regression model\n",
    "logistic.fit(train_X, train_Y)\n",
    "\n",
    "# calculate the accuracy on testing set by function linear_model.LogisticRegression.score(test_X, test_Y) \n",
    "accuracy = logistic.score(train_X, train_Y)\n",
    "print ('Logistic Regression accuracy on the training set: %.2f' % accuracy)"
   ]
  },
  {
   "cell_type": "markdown",
   "metadata": {},
   "source": [
    "## AdaBoost model\n",
    "\n",
    "+ Establish an AdaBoost model with the following setting: `n_estimators=5`, `random_state=1`.\n",
    "+ Calculate the accuracy on training set and test set."
   ]
  },
  {
   "cell_type": "code",
   "execution_count": 4,
   "metadata": {},
   "outputs": [
    {
     "name": "stdout",
     "output_type": "stream",
     "text": [
      "AdaBoost accuracy on the training set: 0.99\n",
      "AdaBoost accuracy on the testing set : 0.71\n"
     ]
    }
   ],
   "source": [
    "from sklearn.ensemble import AdaBoostClassifier\n",
    "from sklearn.tree import DecisionTreeClassifier\n",
    "\n",
    "# initialize a AdaBoost model, set random_state=1, n_estimators=5\n",
    "adaboost = AdaBoostClassifier(DecisionTreeClassifier(), random_state=1, n_estimators=5)\n",
    "\n",
    "# fit the AdaBoost model\n",
    "adaboost.fit(train_X, train_Y)\n",
    "\n",
    "accuracy1 = adaboost.score(train_X, train_Y)\n",
    "\n",
    "# calculate the accuracy on training set by function sklearn.ensemble.AdaBoostClassifier.score(train_X, train_Y) \n",
    "print ('AdaBoost accuracy on the training set: %.2f' % accuracy1)\n",
    "\n",
    "accuracy2 = adaboost.score(test_X, test_Y)\n",
    "\n",
    "# calculate the accuracy on testing set by function sklearn.ensemble.AdaBoostClassifier.score(test_X, test_Y) \n",
    "print ('AdaBoost accuracy on the testing set : %.2f' % accuracy2)"
   ]
  },
  {
   "cell_type": "markdown",
   "metadata": {},
   "source": [
    "## Random Forest model\n",
    "\n",
    "+ Establish a Random Forest model with the following setting: `n_estimators=5`, `random_state=1`. \n",
    "+ Calculate the accuracy on training set and test set."
   ]
  },
  {
   "cell_type": "code",
   "execution_count": 5,
   "metadata": {},
   "outputs": [
    {
     "name": "stdout",
     "output_type": "stream",
     "text": [
      "Random Forest accuracy on the training set: 0.96\n",
      "Random Forest accuracy on the testing set : 0.73\n"
     ]
    }
   ],
   "source": [
    "from sklearn.ensemble import RandomForestClassifier\n",
    "\n",
    "# initialize a Random Forest model, set random_state=1, n_estimators=5\n",
    "random_forest = RandomForestClassifier(n_estimators = 5, random_state=1)\n",
    "\n",
    "# fit the Random Forest model\n",
    "random_forest.fit(train_X, train_Y)\n",
    "\n",
    "accuracy1 = random_forest.score(train_X, train_Y)\n",
    "accuracy2 = random_forest.score(test_X, test_Y)\n",
    "# calculate the accuracy on training set by function sklearn.ensemble.RandomForestClassifier.score(train_X, train_Y) \n",
    "print ('Random Forest accuracy on the training set: %.2f' % accuracy1)\n",
    "\n",
    "# calculate the accuracy on testing set by function sklearn.ensemble.RandomForestClassifier.score(train_X, train_Y) \n",
    "print ('Random Forest accuracy on the testing set : %.2f' % accuracy2)"
   ]
  },
  {
   "cell_type": "markdown",
   "metadata": {},
   "source": [
    "## Crossvalidation for AdaBoost\n",
    "\n",
    "+ Generate 4 different AdaBoost models by setting max_depth=2, 5, 10 and 20. Fix random_state=1 and n_estimators=50 for these 4 models.\n",
    "+ Calculate the accuracy on training set and testing set for all these 4 models to check whether the model is overfitting."
   ]
  },
  {
   "cell_type": "code",
   "execution_count": 6,
   "metadata": {},
   "outputs": [
    {
     "name": "stdout",
     "output_type": "stream",
     "text": [
      "AdaBoost max_depth=2,  n_estimators=50,  accuracy on training set:  0.79\n",
      "AdaBoost max_depth=5,  n_estimators=50,  accuracy on training set:  0.83\n",
      "AdaBoost max_depth=10, n_estimators=50,  accuracy on training set:  0.94\n",
      "AdaBoost max_depth=20, n_estimators=50,  accuracy on training set:  0.99\n",
      "AdaBoost max_depth=2,  n_estimators=50,  accuracy on testing set:  0.78\n",
      "AdaBoost max_depth=5,  n_estimators=50,  accuracy on testing set:  0.77\n",
      "AdaBoost max_depth=10, n_estimators=50,  accuracy on testing set:  0.71\n",
      "AdaBoost max_depth=20, n_estimators=50,  accuracy on testing set:  0.70\n"
     ]
    }
   ],
   "source": [
    "# initialize and fit a AdaBoost model, set max_depth=2, random_state=1, n_estimators=50\n",
    "adaboost_2 = AdaBoostClassifier(DecisionTreeClassifier(max_depth=2), random_state=1, n_estimators=50)\n",
    "adaboost_2.fit(train_X, train_Y)\n",
    "\n",
    "accuracy_2 = adaboost_2.score(train_X, train_Y)\n",
    "accuracy_2t = adaboost_2.score(test_X, test_Y)\n",
    "\n",
    "# initialize a AdaBoost model, set max_depth=5, random_state=1, n_estimators=50\n",
    "adaboost_5 = AdaBoostClassifier(DecisionTreeClassifier(max_depth=5), random_state=1, n_estimators=50)\n",
    "adaboost_5 = adaboost_5.fit(train_X, train_Y)\n",
    "\n",
    "accuracy_5 = adaboost_5.score(train_X, train_Y)\n",
    "accuracy_5t = adaboost_5.score(test_X, test_Y)\n",
    "\n",
    "# initialize a AdaBoost model, set max_depth=10, random_state=1, n_estimators=50\n",
    "adaboost_10 = AdaBoostClassifier(DecisionTreeClassifier(max_depth=10), random_state=1, n_estimators=50)\n",
    "adaboost_10.fit(train_X, train_Y)\n",
    "\n",
    "accuracy_10 = adaboost_10.score(train_X, train_Y)\n",
    "accuracy_10t = adaboost_10.score(test_X, test_Y)\n",
    "\n",
    "# initialize a AdaBoost model, set max_depth=20, random_state=1, n_estimators=50\n",
    "adaboost_20 = AdaBoostClassifier(DecisionTreeClassifier(max_depth=20), random_state=1, n_estimators=50)\n",
    "adaboost_20.fit(train_X, train_Y)\n",
    "\n",
    "accuracy_20 = adaboost_20.score(train_X, train_Y)\n",
    "accuracy_20t = adaboost_20.score(test_X, test_Y)\n",
    "\n",
    "# calculate the accuracy on training set by function sklearn.ensemble.AdaBoostClassifier.score(train_X, train_Y) \n",
    "print ('AdaBoost max_depth=2,  n_estimators=50,  accuracy on training set:  %.2f' % accuracy_2)\n",
    "print ('AdaBoost max_depth=5,  n_estimators=50,  accuracy on training set:  %.2f' % accuracy_5)\n",
    "print ('AdaBoost max_depth=10, n_estimators=50,  accuracy on training set:  %.2f' % accuracy_10)\n",
    "print ('AdaBoost max_depth=20, n_estimators=50,  accuracy on training set:  %.2f' % accuracy_20)\n",
    "\n",
    "# calculate the accuracy on testing set by function sklearn.ensemble.AdaBoostClassifier.score(train_X, train_Y) \n",
    "print ('AdaBoost max_depth=2,  n_estimators=50,  accuracy on testing set:  %.2f' % accuracy_2t)\n",
    "print ('AdaBoost max_depth=5,  n_estimators=50,  accuracy on testing set:  %.2f' % accuracy_5t)\n",
    "print ('AdaBoost max_depth=10, n_estimators=50,  accuracy on testing set:  %.2f' % accuracy_10t)\n",
    "print ('AdaBoost max_depth=20, n_estimators=50,  accuracy on testing set:  %.2f' % accuracy_20t)"
   ]
  },
  {
   "cell_type": "markdown",
   "metadata": {},
   "source": [
    "## Crossvalidation for Random Forest\n",
    "\n",
    "+ Generate 4 different Random Forest models by setting n_estimators=5, 10, 50 and 100. Fix random_state=1 and max_depth to be default value for these 4 models.\n",
    "+ Calculate the accuracy on training set and testing set for all these 4 models to check whether the model is overfitting."
   ]
  },
  {
   "cell_type": "code",
   "execution_count": 7,
   "metadata": {},
   "outputs": [
    {
     "name": "stdout",
     "output_type": "stream",
     "text": [
      "RF n_estimators=5,   accuracy on training set:  0.96\n",
      "RF n_estimators=10,  accuracy on training set:  0.98\n",
      "RF n_estimators=50,  accuracy on training set:  0.99\n",
      "RF n_estimators=100, accuracy on training set:  0.99\n",
      "RF n_estimators=5,   accuracy on testing set:  0.73\n",
      "RF n_estimators=10,  accuracy on testing set:  0.75\n",
      "RF n_estimators=50,  accuracy on testing set:  0.78\n",
      "RF n_estimators=100, accuracy on testing set:  0.78\n"
     ]
    }
   ],
   "source": [
    "# initialize and fit a Random Forest model, set n_estimators=5, random_state=1\n",
    "random_forest_5 = RandomForestClassifier(n_estimators=5, random_state=1)\n",
    "random_forest_5.fit(train_X, train_Y)\n",
    "\n",
    "accuracy_5 = random_forest_5.score(train_X, train_Y)\n",
    "accuracy_5t = random_forest_5.score(test_X, test_Y)\n",
    "\n",
    "# initialize and fit a Random Forest model, set n_estimators=10, random_state=1\n",
    "random_forest_10 = RandomForestClassifier(n_estimators=10, random_state=1)\n",
    "random_forest_10.fit(train_X, train_Y)\n",
    "\n",
    "accuracy_10 = random_forest_10.score(train_X, train_Y)\n",
    "accuracy_10t = random_forest_10.score(test_X, test_Y)\n",
    "\n",
    "# initialize and fit a Random Forest model, set n_estimators=50, random_state=1\n",
    "random_forest_50 = RandomForestClassifier(n_estimators=50, random_state=1)\n",
    "random_forest_50.fit(train_X, train_Y)\n",
    "\n",
    "accuracy_50 = random_forest_50.score(train_X, train_Y)\n",
    "accuracy_50t = random_forest_50.score(test_X, test_Y)\n",
    "\n",
    "# initialize and fit a Random Forest model, set n_estimators=100, random_state=1\n",
    "random_forest_100 = RandomForestClassifier(n_estimators=100, random_state=1)\n",
    "random_forest_100.fit(train_X, train_Y)\n",
    "\n",
    "accuracy_100 = random_forest_100.score(train_X, train_Y)\n",
    "accuracy_100t = random_forest_100.score(test_X, test_Y)\n",
    "\n",
    "# calculate the accuracy on training set by function sklearn.ensemble.RandomForestClassifier.score(train_X, train_Y) \n",
    "print ('RF n_estimators=5,   accuracy on training set:  %.2f' % accuracy_5)\n",
    "print ('RF n_estimators=10,  accuracy on training set:  %.2f' % accuracy_10)\n",
    "print ('RF n_estimators=50,  accuracy on training set:  %.2f' % accuracy_50)\n",
    "print ('RF n_estimators=100, accuracy on training set:  %.2f' % accuracy_100)\n",
    "\n",
    "# calculate the accuracy on testing set by function sklearn.ensemble.RandomForestClassifier.score(train_X, train_Y) \n",
    "print ('RF n_estimators=5,   accuracy on testing set:  %.2f' % accuracy_5t)\n",
    "print ('RF n_estimators=10,  accuracy on testing set:  %.2f' % accuracy_10t)\n",
    "print ('RF n_estimators=50,  accuracy on testing set:  %.2f' % accuracy_50t)\n",
    "print ('RF n_estimators=100, accuracy on testing set:  %.2f' % accuracy_100t)"
   ]
  },
  {
   "cell_type": "code",
   "execution_count": null,
   "metadata": {},
   "outputs": [],
   "source": []
  }
 ],
 "metadata": {
  "kernelspec": {
   "display_name": "Python 3 (ipykernel)",
   "language": "python",
   "name": "python3"
  },
  "language_info": {
   "codemirror_mode": {
    "name": "ipython",
    "version": 3
   },
   "file_extension": ".py",
   "mimetype": "text/x-python",
   "name": "python",
   "nbconvert_exporter": "python",
   "pygments_lexer": "ipython3",
   "version": "3.9.12"
  }
 },
 "nbformat": 4,
 "nbformat_minor": 2
}
